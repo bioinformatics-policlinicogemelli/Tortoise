{
 "cells": [
  {
   "cell_type": "markdown",
   "metadata": {},
   "source": [
    "## BASE"
   ]
  },
  {
   "cell_type": "code",
   "execution_count": 40,
   "metadata": {},
   "outputs": [],
   "source": [
    "# Import\n",
    "from dash import Dash, html, dash_table, dcc, callback, Output, Input, State\n",
    "import pandas as pd\n",
    "import plotly.express as px\n",
    "import os\n",
    "import dash_cytoscape as cyto\n",
    "import json\n",
    "import igraph as ig\n",
    "import dash_bootstrap_components as dbc\n",
    "import venn\n",
    "from io import BytesIO\n",
    "import base64\n",
    "import matplotlib.pyplot as plt\n",
    "import numpy as np\n",
    "import plotly.graph_objects as go\n",
    "import plotly.tools as tls  \n",
    "import pickle\n",
    "import tap\n",
    "from plotly.subplots import make_subplots\n",
    "from lifelines import KaplanMeierFitter\n",
    "from lifelines.statistics import pairwise_logrank_test\n",
    "\n",
    "cyto.load_extra_layouts()\n",
    "\n",
    "APP_NAME = \"Network Tool\"\n",
    "APP_LOGO = \"/assets/logo.png\"\n",
    "GRAPH_ELEMENTS = None\n",
    "NAME_STUDY=\"lung\"\n",
    "#TODO Get from config.josn\n",
    "OUTPUT_ROOT_PATH = f\"./{NAME_STUDY}/output\""
   ]
  },
  {
   "cell_type": "code",
   "execution_count": 41,
   "metadata": {},
   "outputs": [],
   "source": [
    "def filter_graph(cluster):\n",
    "    list_vertices = GRAPH.vs.select(lambda x:x[\"cluster\"]==cluster)\n",
    "    graph_filtered = GRAPH.induced_subgraph(list_vertices)\n",
    "    graph_elements = []\n",
    "    #convert and add vertex\n",
    "    for e in graph_filtered.vs():\n",
    "        _map = e.attributes()\n",
    "        _map[\"id\"] = e.index\n",
    "        _map[\"variants\"]=None\n",
    "        graph_elements.append({\"data\": _map, \"classes\": e[\"vertex_type\"], \"id\": e.index, \"grabbable\": False, })\n",
    "    #convert and add edges\n",
    "    for e in graph_filtered.es():\n",
    "        graph_elements.append({\"data\": {\"source\": e.source, \"target\": e.target}})\n",
    "\n",
    "    return graph_elements\n",
    "\n",
    "def pyplot(fig, ci=True, legend=True):\n",
    "    # Convert mpl fig obj to plotly fig obj, resize to plotly's default\n",
    "    py_fig = tls.mpl_to_plotly(fig, resize=True)\n",
    "    \n",
    "    # Add fill property to lower limit line\n",
    "    if ci == True:\n",
    "        style1 = dict(fill='tonexty')\n",
    "        # apply style\n",
    "        py_fig['data'][2].update(style1)\n",
    "        \n",
    "        # Change color scheme to black\n",
    "        py_fig['data'].update(dict(line=Line(color='black')))\n",
    "    \n",
    "    # change the default line type to 'step'\n",
    "    py_fig['data'].update(dict(line=Line(shape='hv')))\n",
    "    # Delete misplaced legend annotations \n",
    "    py_fig['layout'].pop('annotations', None)\n",
    "    \n",
    "    if legend == True:\n",
    "        # Add legend, place it at the top right corner of the plot\n",
    "        py_fig['layout'].update(\n",
    "            showlegend=True,\n",
    "            legend=Legend(\n",
    "                x=1.05,\n",
    "                y=1\n",
    "            )\n",
    "        )\n",
    "        \n",
    "    # Send updated figure object to Plotly, show result in notebook\n",
    "    return py.iplot(py_fig)"
   ]
  },
  {
   "cell_type": "code",
   "execution_count": 42,
   "metadata": {},
   "outputs": [],
   "source": [
    "GRAPH=None\n",
    "with open (os.path.join(OUTPUT_ROOT_PATH,\"graph.pickle\"),\"rb\") as f:\n",
    "    GRAPH=pickle.load(f)\n",
    "\n",
    "CLUSTERS_INDEX=[int(c) for c in set(GRAPH.vs[\"cluster\"])]\n",
    "GENES=[c for c in set(GRAPH.vs[\"gene\"])]\n",
    "#Find all numerical column\n",
    "DF_CLINICAL_DATA = pd.read_csv(os.path.join(OUTPUT_ROOT_PATH, \"cluster_clinical_data.csv\"),sep=\"\\t\")\n",
    "NUMERIC_COLUMNS_CLINICAL=list(DF_CLINICAL_DATA.select_dtypes(include=np.number).columns)\n",
    "ALL_COLUMNS_CLINICAL=list(DF_CLINICAL_DATA.columns)\n",
    "ALL_COLUMNS_CLINICAL.remove(\"cluster\")"
   ]
  },
  {
   "cell_type": "markdown",
   "metadata": {},
   "source": [
    "## LAYOUT DEFINITION"
   ]
  },
  {
   "cell_type": "code",
   "execution_count": 43,
   "metadata": {},
   "outputs": [],
   "source": [
    "app = Dash(title=APP_NAME, external_stylesheets=[dbc.themes.BOOTSTRAP, dbc.icons.FONT_AWESOME])\n",
    "\n",
    "#ICON -> https://fontawesome.com/search\n",
    "\n",
    "#SIDEBAR\n",
    "sidebar = html.Div([\n",
    "    html.Div(\n",
    "        [\n",
    "            html.Img(src=APP_LOGO, className=\"navbar_logo\"),\n",
    "            html.Span(APP_NAME, className=\"navbar_title\"),\n",
    "        ],\n",
    "        className=\"sidebar-header\",\n",
    "    ),\n",
    "    html.Hr(),\n",
    "    dbc.Nav([\n",
    "            #HOME\n",
    "            dbc.NavLink(\n",
    "                [\n",
    "                    html.I(className=\"fas fa-home\"),\n",
    "                    html.Span(\"Home\", className=\"navbar_span\")\n",
    "                ],\n",
    "                href=\"/\",\n",
    "                active=\"exact\",\n",
    "                className=\"navbar_entity\"\n",
    "            ),\n",
    "            #PATWAY\n",
    "            dbc.NavLink(\n",
    "                [\n",
    "                    html.I(className=\"fas fa-diagram-project\"),\n",
    "                    html.Span(\"Pathways Analysis\", className=\"navbar_span\"),\n",
    "                ],\n",
    "                href=\"/pathway_analysis\",\n",
    "                active=\"exact\",\n",
    "                className=\"navbar_entity\"\n",
    "            ),\n",
    "            #CLUSTER COMP\n",
    "            dbc.NavLink(\n",
    "                [\n",
    "                    html.I(className=\"fas fa-code-compare\"),\n",
    "                    html.Span(\"Cluster Comparision\",className=\"navbar_span\"),\n",
    "                ],\n",
    "                href=\"/cluster_comparision\",\n",
    "                active=\"exact\",\n",
    "                className=\"navbar_entity\"\n",
    "            ),\n",
    "            #CLINICAL\n",
    "            dbc.NavLink(\n",
    "                [\n",
    "                    html.I(className=\"fas fa-table\"),\n",
    "                    html.Span(\"Clinical Data\",className=\"navbar_span\"),\n",
    "                ],\n",
    "                href=\"/clinical_data\",\n",
    "                active=\"exact\",\n",
    "                className=\"navbar_entity\"\n",
    "            ),\n",
    "            #SURVIVAL ANALYSIS\n",
    "             dbc.NavLink(\n",
    "                [\n",
    "                    html.I(className=\"fa-solid fa-chart-line\"),\n",
    "                    html.Span(\"Survival Analysis\",className=\"navbar_span\"),\n",
    "                ],\n",
    "                href=\"/survival_analysis\",\n",
    "                active=\"exact\",\n",
    "                className=\"navbar_entity\"\n",
    "            ),\n",
    "\n",
    "        ], vertical=True, pills=True\n",
    "    )],className=\"sidebar\"\n",
    ")\n",
    "\n",
    "content = html.Div(id=\"page-content\", className=\"content\")\n",
    "app.layout = html.Div([dcc.Location(id=\"url\"), sidebar, content])\n",
    "\n",
    "#******************************************************\n",
    "PAGE_HOME = [\n",
    "    #DIALOG INFO NODE\n",
    "    dbc.Modal(\n",
    "        [],\n",
    "        id=\"modal-lg\",\n",
    "        size=\"lg\",\n",
    "        is_open=False,\n",
    "    ),\n",
    "    #ROW LINE PARAMS\n",
    "    dbc.Row([\n",
    "        #CLUSTER SELECTOR\n",
    "        dbc.Col([\n",
    "            html.Span(\"Cluster selected\", className=\"span_selector\"),\n",
    "            dcc.Dropdown(\n",
    "                CLUSTERS_INDEX,\n",
    "                0,\n",
    "                id='dropdown-cluster',\n",
    "                persistence=True,\n",
    "                persistence_type = 'memory'\n",
    "            ),html.Br()\n",
    "        ], lg=4),html.Hr()\n",
    "    ]),\n",
    "    #1 ROW\n",
    "    dbc.Row([\n",
    "        dbc.Col([\n",
    "           html.Span(\"Number of patients\"),\n",
    "           html.Hr(),\n",
    "           html.Span(0, id=\"span_n_patient\")\n",
    "        ], width=2, className=\"info_block\"),\n",
    "        dbc.Col([\n",
    "           html.Span(\"Number of variants\"),\n",
    "           html.Hr(),\n",
    "           html.Span(0, id=\"span_n_variants\")\n",
    "        ], width=2, className=\"info_block\"),\n",
    "        dbc.Col([\n",
    "           html.Span(\"Number of genes\"),\n",
    "           html.Hr(),\n",
    "           html.Span(0, id=\"span_n_genes\")\n",
    "        ], width=2, className=\"info_block\"),\n",
    "        dbc.Col([\n",
    "           html.Span(\"Variant centroid\"),\n",
    "           html.Hr(),\n",
    "           html.Span(\"None\", id=\"span_variant_centroids\")\n",
    "        ], width=2, className=\"info_block\")\n",
    "    ], justify=\"evenly\"),\n",
    "\n",
    "    #2 ROW\n",
    "    dbc.Row([\n",
    "        #CYTOSCAPE BLOCK\n",
    "        dbc.Col([\n",
    "            #CYTOSCAPE GRAPH\n",
    "            cyto.Cytoscape(\n",
    "                id='cytoscape-graph',\n",
    "                layout={'name': 'cola'},\n",
    "                style={'width': '100%', 'height': '25rem'},\n",
    "                stylesheet=[\n",
    "                    #NOME SOPRA\n",
    "                    {\n",
    "                        'selector': 'node',\n",
    "                        'style': {\n",
    "                            'content': 'data(name)',\n",
    "                            \"font-size\": \"5px\"\n",
    "                        }\n",
    "                    },\n",
    "                    #PAZIENTI TRIANGOLI ROSSI\n",
    "                    {\n",
    "                        'selector': '.PATIENT',\n",
    "                        'style': {\n",
    "                            'background-color': 'coral',\n",
    "                            'shape': 'triangle'\n",
    "                        }\n",
    "                    },\n",
    "                    #VARIANTI CERCHI BLUE\n",
    "                    {\n",
    "                        'selector': '.VARIANT',\n",
    "                        'style': {\n",
    "                            'background-color': 'royalblue',\n",
    "                            'shape': 'circle'\n",
    "                        }\n",
    "                    },\n",
    "                    #SELECTEDƒco\n",
    "                    {\n",
    "                        'selector': ':selected',\n",
    "                        'style': {\n",
    "                            'background-color': '#02cd79',\n",
    "                        },\n",
    "                    }\n",
    "                ],\n",
    "                elements=filter_graph(0),\n",
    "                minZoom=0.1,\n",
    "                maxZoom=2,\n",
    "                responsive=True\n",
    "            ),                  \n",
    "            #LAYOUT SELECTOR\n",
    "            dcc.RadioItems(\n",
    "                options=[\"cola\", \"concentric\", \"breadthfirst\", \"klay\"],\n",
    "                value=\"cola\",\n",
    "                inline=True,\n",
    "                id='radio-layouts'\n",
    "            )\n",
    "        ], lg=6),\n",
    "        #FIGURE PIE\n",
    "        dbc.Col([\n",
    "            dcc.Graph(id=\"fig_pie\")\n",
    "        ], lg=6)\n",
    "    ], justify=\"evenly\"),\n",
    "    #3 ROW\n",
    "    dbc.Row([\n",
    "        #FIGURE DEGREE\n",
    "        dbc.Col([\n",
    "            dcc.Graph(id=\"fig_degree\")\n",
    "        ], lg=11),\n",
    "    ], justify=\"evenly\")\n",
    "]\n",
    "\n",
    "#******************************************************\n",
    "PAGE_PATHWAY_ANALYSIS = [\n",
    "    #ROW LINE PARAMS\n",
    "    dbc.Row([\n",
    "        #CLUSTER SELECTOR\n",
    "        dbc.Col([\n",
    "            html.Span(\"Cluster selected\", className=\"span_selector\"),\n",
    "            dcc.Dropdown(\n",
    "                CLUSTERS_INDEX,\n",
    "                0,\n",
    "                id='dropdown-cluster',\n",
    "                persistence=True,\n",
    "                persistence_type = 'memory'\n",
    "            ),html.Br()\n",
    "        ], lg=4),\n",
    "        #PVALUE SELECTOR\n",
    "        dbc.Col([\n",
    "            html.Span(\"PValue threshold\", className=\"span_selector\"),\n",
    "            dcc.Dropdown(\n",
    "                [0.01, 0.05],\n",
    "                0.05,\n",
    "                id='dropdown-pvalue',\n",
    "                persistence=True,\n",
    "                persistence_type = 'memory'\n",
    "            ),html.Br()\n",
    "        ], lg=4),\n",
    "        #ADJUSTED PVALUE SELECTOR\n",
    "        dbc.Col([\n",
    "            html.Span(\"Use adjusted PValue\", className=\"span_selector\"),\n",
    "            dcc.Dropdown(\n",
    "                [\"True\", \"False\"],\n",
    "                \"False\",\n",
    "                id='dropdown-adjusted-pvalue',\n",
    "                persistence=True,\n",
    "                persistence_type = 'memory'\n",
    "            ),html.Br()\n",
    "        ], lg=4),html.Hr()\n",
    "    ]),\n",
    "    #FIRST ROW\n",
    "    dbc.Row([\n",
    "        #FIGURE GO\n",
    "        dbc.Col([\n",
    "            dcc.Graph(id=\"fig_go\"),\n",
    "            dcc.RadioItems(\n",
    "            options=[\n",
    "                {'label': 'Biological Function', 'value': 'biological'},\n",
    "                {'label': 'Molecular Function', 'value': 'molecular'},\n",
    "                {'label': 'Cellular Component', 'value': 'cellular'}\n",
    "            ],\n",
    "            # Valore predefinito\n",
    "            value='biological' ,\n",
    "            labelStyle={'display': 'inline-block'},\n",
    "            id=\"radio_fig_go\"\n",
    "        )], lg=6),\n",
    "        #FIGURE KEGG\n",
    "        dbc.Col([\n",
    "            dcc.Graph(id=\"fig_kegg\")\n",
    "        ], lg=6),\n",
    "        #FIGURE REACTOME\n",
    "        dbc.Col([\n",
    "            dcc.Graph(id=\"fig_reactome\")\n",
    "        ], lg=6),\n",
    "        #FIGURE WIKI\n",
    "        dbc.Col([\n",
    "            dcc.Graph(id=\"fig_wiki\")\n",
    "        ], lg=6)\n",
    "    ])\n",
    "]\n",
    "\n",
    "#******************************************************\n",
    "PAGE_CLUSTER_COMPARISION = [\n",
    "    #ROW LINE PARAMS\n",
    "    dbc.Row([\n",
    "        #CLUSTER SELECTOR MULTI\n",
    "        dbc.Col([\n",
    "            html.Span(\"Cluster selected\", className=\"span_selector\"),\n",
    "            dcc.Dropdown(\n",
    "                [\"ALL\"]+CLUSTERS_INDEX,\n",
    "                [],\n",
    "                id='dropdown-cluster-multi',\n",
    "                multi=True,\n",
    "                persistence=True,\n",
    "                persistence_type = 'memory'\n",
    "            ),html.Br()\n",
    "        ], lg=4),html.Hr()\n",
    "    ]),\n",
    "    # ROW VENN\n",
    "    dbc.Row([\n",
    "        dbc.Col([\n",
    "            html.Img(id='plot-venn')\n",
    "        ], lg=6),\n",
    "        dbc.Col([\n",
    "            dcc.Graph(\n",
    "                id=\"table_gene_common\"\n",
    "            )\n",
    "        ], lg=6),        \n",
    "    ]),\n",
    "    # ROW BOXS\n",
    "    dbc.Row([\n",
    "        dcc.Dropdown(\n",
    "            ALL_COLUMNS_CLINICAL,\n",
    "            ALL_COLUMNS_CLINICAL[0],\n",
    "            id='dropdown-multi-fig1',\n",
    "            persistence=True,\n",
    "            persistence_type = 'memory'\n",
    "        ),\n",
    "        dcc.Graph(id=\"fig_multi_fig1\")\n",
    "    ]),\n",
    "    # ROW PIES\n",
    "    dbc.Row([\n",
    "        dcc.Dropdown(\n",
    "            ALL_COLUMNS_CLINICAL,\n",
    "            ALL_COLUMNS_CLINICAL[-1],\n",
    "            id='dropdown-multi-fig2',\n",
    "            persistence=True,\n",
    "            persistence_type = 'memory'\n",
    "        ),\n",
    "        dcc.Graph(id=\"fig_multi_fig2\")\n",
    "    ]),\n",
    "]\n",
    "\n",
    "#*******************************************************\n",
    "PAGE_CLINICAL_DATA=[\n",
    "    #DIALOG INFO NODE\n",
    "    dbc.Modal(\n",
    "        [],\n",
    "        id=\"modal-lg\",\n",
    "        size=\"lg\",\n",
    "        is_open=False,\n",
    "    ),\n",
    "    #ROW LINE PARAMS\n",
    "    dbc.Row([\n",
    "        #CLUSTER SELECTOR\n",
    "        dbc.Col([\n",
    "            html.Span(\"Cluster selected\", className=\"span_selector\"),\n",
    "            dcc.Dropdown(\n",
    "                CLUSTERS_INDEX,\n",
    "                0,\n",
    "                id='dropdown-cluster',\n",
    "                persistence=True,\n",
    "                persistence_type = 'memory'\n",
    "            ),html.Br()\n",
    "        ], lg=4),html.Hr()\n",
    "    ]),\n",
    "    dbc.Row([\n",
    "        #FIGURE BOX_PLOT_1\n",
    "        dbc.Col([\n",
    "            dcc.Dropdown(\n",
    "                ALL_COLUMNS_CLINICAL,\n",
    "                ALL_COLUMNS_CLINICAL[0],\n",
    "                id='dropdown-box-1',\n",
    "                persistence=True,\n",
    "                persistence_type = 'memory'\n",
    "            ),\n",
    "            dcc.Graph(id=\"fig_box_plot_1\")\n",
    "        ], lg=6),\n",
    "        #FIGURE BOX_PLOT_2\n",
    "        dbc.Col([\n",
    "            dcc.Dropdown(\n",
    "                ALL_COLUMNS_CLINICAL,\n",
    "                ALL_COLUMNS_CLINICAL[-1],\n",
    "                id='dropdown-box-2',\n",
    "                persistence=True,\n",
    "                persistence_type = 'memory'\n",
    "            ),\n",
    "            dcc.Graph(id=\"fig_box_plot_2\")\n",
    "        ], lg=6)\n",
    "    ]),\n",
    "    dbc.Row([\n",
    "        dbc.Col([\n",
    "            dash_table.DataTable(id=\"table_clinical_data\")\n",
    "        ])\n",
    "    ]),\n",
    "    dbc.Row([\n",
    "        #GENES SELECTOR MULTI\n",
    "        dbc.Col([\n",
    "            html.Span(\"Genes selected\", className=\"span_selector\"),\n",
    "            dcc.Dropdown(\n",
    "                GENES,\n",
    "                [],\n",
    "                id='dropdown-genes-multi',\n",
    "                multi=True,\n",
    "                persistence=True,\n",
    "                persistence_type = 'memory'\n",
    "            ),html.Br()\n",
    "        ], lg=4),html.Hr()\n",
    "    ]),\n",
    "    dbc.Row([\n",
    "            dbc.Col([\n",
    "                dash_table.DataTable(id=\"table_clinical_data_gene\")\n",
    "        ])\n",
    "\n",
    "    ]),\n",
    "    dbc.Row([\n",
    "            dbc.Col([\n",
    "                dash_table.DataTable(id=\"table_mutational_gene\")\n",
    "        ])\n",
    "\n",
    "    ]),\n",
    "]\n",
    "#*******************************************************\n",
    "PAGE_SURVIVAL_ANALYSIS=[\n",
    "    #DIALOG INFO NODE\n",
    "    dbc.Modal(\n",
    "        [],\n",
    "        id=\"modal-lg\",\n",
    "        size=\"lg\",\n",
    "        is_open=False,\n",
    "    ),\n",
    "    #ROW LINE PARAMS\n",
    "    dbc.Row([\n",
    "        #CLUSTER SELECTOR\n",
    "        dbc.Col([\n",
    "            html.Span(\"Cluster selected\", className=\"span_selector\"),\n",
    "            dcc.Dropdown(\n",
    "                CLUSTERS_INDEX,\n",
    "                0,\n",
    "                id='dropdown-cluster',\n",
    "                persistence=True,\n",
    "                persistence_type = 'memory'\n",
    "            ),html.Br()\n",
    "        ], lg=4),html.Hr()\n",
    "    ]),\n",
    "    dbc.Row([\n",
    "        dbc.Col([\n",
    "            dcc.Graph(id='survival_figure')\n",
    "        ], lg=8)\n",
    "    ]),\n",
    "\n",
    "    dbc.Row([\n",
    "        #CLUSTER SELECTOR MULTI\n",
    "        dbc.Col([\n",
    "            html.Span(\"Multi Cluster Selection\", className=\"span_selector\"),\n",
    "            dcc.Dropdown(\n",
    "                [\"ALL\"]+CLUSTERS_INDEX,\n",
    "                [],\n",
    "                id='dropdown-cluster-multi_survival',\n",
    "                multi=True,\n",
    "                persistence=True,\n",
    "                persistence_type = 'memory'\n",
    "            ),html.Br()\n",
    "        ], lg=4),html.Hr()\n",
    "    ]),\n",
    "    dbc.Row([\n",
    "        dbc.Col([\n",
    "            dcc.Graph(id='survival_figure_comparison')\n",
    "        ], lg=8),\n",
    "        dbc.Col([\n",
    "            dcc.Graph(\n",
    "                id=\"table_test_survival\"\n",
    "            )\n",
    "        ], lg=4), \n",
    "    ])\n",
    "\n",
    "]"
   ]
  },
  {
   "cell_type": "markdown",
   "metadata": {},
   "source": [
    "## HOME PAGE"
   ]
  },
  {
   "cell_type": "code",
   "execution_count": 44,
   "metadata": {},
   "outputs": [],
   "source": [
    "#PAGING\n",
    "@app.callback(\n",
    "    Output(\"page-content\", \"children\"),\n",
    "    Input(\"url\", \"pathname\")\n",
    ")\n",
    "def render_page_content(pathname):\n",
    "    if pathname == \"/\":\n",
    "        return PAGE_HOME\n",
    "    elif pathname == \"/pathway_analysis\":\n",
    "        return PAGE_PATHWAY_ANALYSIS\n",
    "    elif pathname == \"/cluster_comparision\":\n",
    "        return PAGE_CLUSTER_COMPARISION\n",
    "    elif pathname == \"/clinical_data\":\n",
    "        return PAGE_CLINICAL_DATA\n",
    "    elif pathname == \"/survival_analysis\":\n",
    "        return PAGE_SURVIVAL_ANALYSIS\n",
    "    # If the user tries to reach a different page, return a 404 message\n",
    "    return html.Div(\n",
    "        [\n",
    "            html.H1(\"404: Not found\", className=\"text-danger\"),\n",
    "            html.Hr(),\n",
    "            html.P(f\"The pathname {pathname} was not recognised...\"),\n",
    "        ],\n",
    "        className=\"p-3 bg-light rounded-3\",\n",
    "    )\n",
    "\n",
    "#SELECT SINGLE NODE GRAPH\n",
    "@callback(\n",
    "    Output('modal-lg', 'children'),\n",
    "    Output('modal-lg', 'is_open'),\n",
    "    Input('cytoscape-graph', 'tapNodeData'),\n",
    "    prevent_initial_call=True,\n",
    ")\n",
    "def displaySelectedNodeData(data_dict):\n",
    "    temp=\"\"\n",
    "    if data_dict[\"vertex_type\"] == \"VARIANT\":\n",
    "        term_included=[\"name\",\"gene\",\"sost_amm\",\"consequence\",\"gene\",\"sost_amm\",\"variant_type\"]\n",
    "        temp=\"\"\n",
    "        for k, v in data_dict.items():\n",
    "            if k in term_included:\n",
    "                temp+=f\"**{k}**:{v}\\n\"\n",
    "    else:\n",
    "        term_excluded=[\"vertex_type\",\"variants\",\"color_vertex\",\"shape_vertex\",\"gene\",\"sost_amm\",\"variant_type\",\"consequence\",\"color\",\"cluster\",\"id\",\"timeStamp\"]\n",
    "        temp=\"\"\n",
    "        for k, v in data_dict.items():\n",
    "            if k not in term_excluded:\n",
    "                temp+=f\"**{k}**:{v}\\n\"\n",
    "\n",
    "    return [\n",
    "        dbc.ModalHeader(dbc.ModalTitle(data_dict['name'])),\n",
    "        dcc.Markdown(temp, className=\"markdown\"),\n",
    "    ], True\n",
    "\n",
    "#UPDATE CLUSTER LAYOUT\n",
    "@callback(\n",
    "    Output(component_id='cytoscape-graph', component_property='layout'),\n",
    "    Input(component_id='radio-layouts', component_property='value')\n",
    ")\n",
    "def update_graph(layout):\n",
    "    return {'name': layout}\n",
    "\n",
    "#SELECT CLUSTER INDEX\n",
    "@callback(\n",
    "    Output(component_id='cytoscape-graph', component_property='elements'),\n",
    "    Output(component_id='fig_pie', component_property='figure'),\n",
    "    Output(component_id='fig_degree', component_property='figure'),\n",
    "    Output(component_id='span_n_patient', component_property='children'),\n",
    "    Output(component_id='span_n_variants', component_property='children'),\n",
    "    Output(component_id='span_n_genes', component_property='children'),\n",
    "    Output(component_id='span_variant_centroids', component_property='children'),\n",
    "    Input(component_id='dropdown-cluster', component_property='value')\n",
    ")\n",
    "def update_cluster(cluster):\n",
    "    #CLUSTER ELEMENTS\n",
    "    cluster_elements = filter_graph(cluster)\n",
    "    #FIGURE PIE\n",
    "    df_gene = pd.read_csv(os.path.join(OUTPUT_ROOT_PATH, \"Gene_Count\", f\"genes_cluster_{cluster}.csv\"),sep=\"\\t\")\n",
    "    fig_pie = px.pie(df_gene, values='COUNT', names='GENE', title='Number Mutation for Gene')\n",
    "    fig_pie.update_traces(textposition=\"inside\",textinfo='label')\n",
    "    #VARIANT NUMBERS\n",
    "    df_variant = pd.read_csv(os.path.join(OUTPUT_ROOT_PATH, \"Variants_Degree\",f\"variants_degree_cluster{cluster}.csv\"),sep=\"\\t\")\n",
    "    n_variants = len(df_variant)\n",
    "    #FIGURE DEGREE\n",
    "    df_variant=df_variant.sort_values(by=['Degree'],ascending=False)[:15]\n",
    "    fig_degree = px.bar(df_variant,x=\"Variants\",y=\"Degree\",title=\"Mutation Degree\")\n",
    "    #PATIENTS NUMBER\n",
    "    n_patients = len([1 for e in cluster_elements if e[\"data\"].get(\"vertex_type\", \"\") == \"PATIENT\"])\n",
    "    #GENE NUMBERS\n",
    "    n_genes = len(df_gene)\n",
    "    #VARIANT CENTROID\n",
    "    if df_variant.iloc[0][\"Degree\"] == df_variant.iloc[1][\"Degree\"]:\n",
    "        variant_centroids = \"More than one\"\n",
    "    else:\n",
    "        variant_centroids = df_variant.iloc[0][\"Variants\"]\n",
    "    #RETURN\n",
    "    return cluster_elements, fig_pie, fig_degree, n_patients, n_variants, n_genes, variant_centroids"
   ]
  },
  {
   "cell_type": "markdown",
   "metadata": {},
   "source": [
    "## PATHWAY ANALYSIS PAGE"
   ]
  },
  {
   "cell_type": "code",
   "execution_count": 45,
   "metadata": {},
   "outputs": [
    {
     "data": {
      "application/vnd.plotly.v1+json": {
       "config": {
        "plotlyServerURL": "https://plot.ly"
       },
       "data": [
        {
         "alignmentgroup": "True",
         "customdata": [
          [
           "1/38"
          ],
          [
           "1/46"
          ],
          [
           "1/46"
          ],
          [
           "1/44"
          ],
          [
           "1/33"
          ],
          [
           "1/9"
          ],
          [
           "1/9"
          ],
          [
           "1/6"
          ],
          [
           "1/6"
          ],
          [
           "1/15"
          ],
          [
           "1/14"
          ],
          [
           "1/14"
          ],
          [
           "1/12"
          ],
          [
           "1/28"
          ],
          [
           "1/30"
          ],
          [
           "1/30"
          ],
          [
           "1/31"
          ],
          [
           "1/22"
          ],
          [
           "1/19"
          ],
          [
           "1/19"
          ],
          [
           "1/15"
          ],
          [
           "1/22"
          ],
          [
           "1/25"
          ],
          [
           "1/26"
          ],
          [
           "1/26"
          ]
         ],
         "hovertemplate": "Count_gene=%{x}<br>Term=%{y}<br>Overlap=%{customdata[0]}<br>Adjusted Pvalue=%{marker.color}<extra></extra>",
         "legendgroup": "",
         "marker": {
          "color": [
           0.0034073474473012,
           0.0034073474473012,
           0.0034073474473012,
           0.0034073474473012,
           0.0031427956251645,
           0.0030999381313408,
           0.0030999381313408,
           0.0030999381313408,
           0.0030999381313408,
           0.0030999381313408,
           0.0030999381313408,
           0.0030999381313408,
           0.0030999381313408,
           0.0030999381313408,
           0.0030999381313408,
           0.0030999381313408,
           0.0030999381313408,
           0.0030999381313408,
           0.0030999381313408,
           0.0030999381313408,
           0.0030999381313408,
           0.0030999381313408,
           0.0030999381313408,
           0.0030999381313408,
           0.0030999381313408
          ],
          "coloraxis": "coloraxis",
          "pattern": {
           "shape": ""
          }
         },
         "name": "",
         "offsetgroup": "",
         "orientation": "h",
         "showlegend": false,
         "textposition": "auto",
         "type": "bar",
         "x": [
          1,
          1,
          1,
          1,
          1,
          1,
          1,
          1,
          1,
          1,
          1,
          1,
          1,
          1,
          1,
          1,
          1,
          1,
          1,
          1,
          1,
          1,
          1,
          1,
          1
         ],
         "xaxis": "x",
         "y": [
          "Regulation Of Telomere Maintenance (GO:0032204)",
          "Replication Fork Processing (GO:0031297)",
          "Mitotic G2/M Transition Checkpoint (GO:0044818)",
          "Regulation Of DNA Recombination (GO:0000018)",
          "Positive Regulation Of Chromosome Organization (GO:2001252)",
          "Telomere Maintenance Via Recombination (GO:0000722)",
          "Homologous Recombination (GO:0035825)",
          "DNA Strand Resection Involved In Replication Fork Processing (GO:0110025)",
          "Negative Regulation Of Telomere Capping (GO:1904354)",
          "Negative Regulation Of Telomere Maintenance (GO:0032205)",
          "Telomere Capping (GO:0016233)",
          "Mitotic Recombination (GO:0006312)",
          "DNA Strand Elongation (GO:0022616)",
          "Negative Regulation Of G2/M Transition Of Mitotic Cell Cycle (GO:0010972)",
          "Nucleic Acid Metabolic Process (GO:0090304)",
          "DNA Geometric Change (GO:0032392)",
          "Regulation Of Protein Autophosphorylation (GO:0031952)",
          "Positive Regulation Of Protein Autophosphorylation (GO:0031954)",
          "Telomere Maintenance Via Telomerase (GO:0007004)",
          "RNA-templated DNA Biosynthetic Process (GO:0006278)",
          "DNA Double-Strand Break Processing (GO:0000729)",
          "Regulation Of Telomere Capping (GO:1904353)",
          "Mitotic Cell Cycle Checkpoint Signaling (GO:0007093)",
          "Nucleic Acid Phosphodiester Bond Hydrolysis (GO:0090305)",
          "Telomere Maintenance Via Telomere Lengthening (GO:0010833)"
         ],
         "yaxis": "y"
        }
       ],
       "layout": {
        "barmode": "relative",
        "coloraxis": {
         "colorbar": {
          "exponentformat": "e",
          "title": {
           "text": "Adjusted Pvalue"
          }
         },
         "colorscale": [
          [
           0,
           "#0d0887"
          ],
          [
           0.1111111111111111,
           "#46039f"
          ],
          [
           0.2222222222222222,
           "#7201a8"
          ],
          [
           0.3333333333333333,
           "#9c179e"
          ],
          [
           0.4444444444444444,
           "#bd3786"
          ],
          [
           0.5555555555555556,
           "#d8576b"
          ],
          [
           0.6666666666666666,
           "#ed7953"
          ],
          [
           0.7777777777777778,
           "#fb9f3a"
          ],
          [
           0.8888888888888888,
           "#fdca26"
          ],
          [
           1,
           "#f0f921"
          ]
         ]
        },
        "legend": {
         "title": {
          "text": "Adjusted Pvalue"
         },
         "tracegroupgap": 0
        },
        "template": {
         "data": {
          "bar": [
           {
            "error_x": {
             "color": "#2a3f5f"
            },
            "error_y": {
             "color": "#2a3f5f"
            },
            "marker": {
             "line": {
              "color": "#E5ECF6",
              "width": 0.5
             },
             "pattern": {
              "fillmode": "overlay",
              "size": 10,
              "solidity": 0.2
             }
            },
            "type": "bar"
           }
          ],
          "barpolar": [
           {
            "marker": {
             "line": {
              "color": "#E5ECF6",
              "width": 0.5
             },
             "pattern": {
              "fillmode": "overlay",
              "size": 10,
              "solidity": 0.2
             }
            },
            "type": "barpolar"
           }
          ],
          "carpet": [
           {
            "aaxis": {
             "endlinecolor": "#2a3f5f",
             "gridcolor": "white",
             "linecolor": "white",
             "minorgridcolor": "white",
             "startlinecolor": "#2a3f5f"
            },
            "baxis": {
             "endlinecolor": "#2a3f5f",
             "gridcolor": "white",
             "linecolor": "white",
             "minorgridcolor": "white",
             "startlinecolor": "#2a3f5f"
            },
            "type": "carpet"
           }
          ],
          "choropleth": [
           {
            "colorbar": {
             "outlinewidth": 0,
             "ticks": ""
            },
            "type": "choropleth"
           }
          ],
          "contour": [
           {
            "colorbar": {
             "outlinewidth": 0,
             "ticks": ""
            },
            "colorscale": [
             [
              0,
              "#0d0887"
             ],
             [
              0.1111111111111111,
              "#46039f"
             ],
             [
              0.2222222222222222,
              "#7201a8"
             ],
             [
              0.3333333333333333,
              "#9c179e"
             ],
             [
              0.4444444444444444,
              "#bd3786"
             ],
             [
              0.5555555555555556,
              "#d8576b"
             ],
             [
              0.6666666666666666,
              "#ed7953"
             ],
             [
              0.7777777777777778,
              "#fb9f3a"
             ],
             [
              0.8888888888888888,
              "#fdca26"
             ],
             [
              1,
              "#f0f921"
             ]
            ],
            "type": "contour"
           }
          ],
          "contourcarpet": [
           {
            "colorbar": {
             "outlinewidth": 0,
             "ticks": ""
            },
            "type": "contourcarpet"
           }
          ],
          "heatmap": [
           {
            "colorbar": {
             "outlinewidth": 0,
             "ticks": ""
            },
            "colorscale": [
             [
              0,
              "#0d0887"
             ],
             [
              0.1111111111111111,
              "#46039f"
             ],
             [
              0.2222222222222222,
              "#7201a8"
             ],
             [
              0.3333333333333333,
              "#9c179e"
             ],
             [
              0.4444444444444444,
              "#bd3786"
             ],
             [
              0.5555555555555556,
              "#d8576b"
             ],
             [
              0.6666666666666666,
              "#ed7953"
             ],
             [
              0.7777777777777778,
              "#fb9f3a"
             ],
             [
              0.8888888888888888,
              "#fdca26"
             ],
             [
              1,
              "#f0f921"
             ]
            ],
            "type": "heatmap"
           }
          ],
          "heatmapgl": [
           {
            "colorbar": {
             "outlinewidth": 0,
             "ticks": ""
            },
            "colorscale": [
             [
              0,
              "#0d0887"
             ],
             [
              0.1111111111111111,
              "#46039f"
             ],
             [
              0.2222222222222222,
              "#7201a8"
             ],
             [
              0.3333333333333333,
              "#9c179e"
             ],
             [
              0.4444444444444444,
              "#bd3786"
             ],
             [
              0.5555555555555556,
              "#d8576b"
             ],
             [
              0.6666666666666666,
              "#ed7953"
             ],
             [
              0.7777777777777778,
              "#fb9f3a"
             ],
             [
              0.8888888888888888,
              "#fdca26"
             ],
             [
              1,
              "#f0f921"
             ]
            ],
            "type": "heatmapgl"
           }
          ],
          "histogram": [
           {
            "marker": {
             "pattern": {
              "fillmode": "overlay",
              "size": 10,
              "solidity": 0.2
             }
            },
            "type": "histogram"
           }
          ],
          "histogram2d": [
           {
            "colorbar": {
             "outlinewidth": 0,
             "ticks": ""
            },
            "colorscale": [
             [
              0,
              "#0d0887"
             ],
             [
              0.1111111111111111,
              "#46039f"
             ],
             [
              0.2222222222222222,
              "#7201a8"
             ],
             [
              0.3333333333333333,
              "#9c179e"
             ],
             [
              0.4444444444444444,
              "#bd3786"
             ],
             [
              0.5555555555555556,
              "#d8576b"
             ],
             [
              0.6666666666666666,
              "#ed7953"
             ],
             [
              0.7777777777777778,
              "#fb9f3a"
             ],
             [
              0.8888888888888888,
              "#fdca26"
             ],
             [
              1,
              "#f0f921"
             ]
            ],
            "type": "histogram2d"
           }
          ],
          "histogram2dcontour": [
           {
            "colorbar": {
             "outlinewidth": 0,
             "ticks": ""
            },
            "colorscale": [
             [
              0,
              "#0d0887"
             ],
             [
              0.1111111111111111,
              "#46039f"
             ],
             [
              0.2222222222222222,
              "#7201a8"
             ],
             [
              0.3333333333333333,
              "#9c179e"
             ],
             [
              0.4444444444444444,
              "#bd3786"
             ],
             [
              0.5555555555555556,
              "#d8576b"
             ],
             [
              0.6666666666666666,
              "#ed7953"
             ],
             [
              0.7777777777777778,
              "#fb9f3a"
             ],
             [
              0.8888888888888888,
              "#fdca26"
             ],
             [
              1,
              "#f0f921"
             ]
            ],
            "type": "histogram2dcontour"
           }
          ],
          "mesh3d": [
           {
            "colorbar": {
             "outlinewidth": 0,
             "ticks": ""
            },
            "type": "mesh3d"
           }
          ],
          "parcoords": [
           {
            "line": {
             "colorbar": {
              "outlinewidth": 0,
              "ticks": ""
             }
            },
            "type": "parcoords"
           }
          ],
          "pie": [
           {
            "automargin": true,
            "type": "pie"
           }
          ],
          "scatter": [
           {
            "fillpattern": {
             "fillmode": "overlay",
             "size": 10,
             "solidity": 0.2
            },
            "type": "scatter"
           }
          ],
          "scatter3d": [
           {
            "line": {
             "colorbar": {
              "outlinewidth": 0,
              "ticks": ""
             }
            },
            "marker": {
             "colorbar": {
              "outlinewidth": 0,
              "ticks": ""
             }
            },
            "type": "scatter3d"
           }
          ],
          "scattercarpet": [
           {
            "marker": {
             "colorbar": {
              "outlinewidth": 0,
              "ticks": ""
             }
            },
            "type": "scattercarpet"
           }
          ],
          "scattergeo": [
           {
            "marker": {
             "colorbar": {
              "outlinewidth": 0,
              "ticks": ""
             }
            },
            "type": "scattergeo"
           }
          ],
          "scattergl": [
           {
            "marker": {
             "colorbar": {
              "outlinewidth": 0,
              "ticks": ""
             }
            },
            "type": "scattergl"
           }
          ],
          "scattermapbox": [
           {
            "marker": {
             "colorbar": {
              "outlinewidth": 0,
              "ticks": ""
             }
            },
            "type": "scattermapbox"
           }
          ],
          "scatterpolar": [
           {
            "marker": {
             "colorbar": {
              "outlinewidth": 0,
              "ticks": ""
             }
            },
            "type": "scatterpolar"
           }
          ],
          "scatterpolargl": [
           {
            "marker": {
             "colorbar": {
              "outlinewidth": 0,
              "ticks": ""
             }
            },
            "type": "scatterpolargl"
           }
          ],
          "scatterternary": [
           {
            "marker": {
             "colorbar": {
              "outlinewidth": 0,
              "ticks": ""
             }
            },
            "type": "scatterternary"
           }
          ],
          "surface": [
           {
            "colorbar": {
             "outlinewidth": 0,
             "ticks": ""
            },
            "colorscale": [
             [
              0,
              "#0d0887"
             ],
             [
              0.1111111111111111,
              "#46039f"
             ],
             [
              0.2222222222222222,
              "#7201a8"
             ],
             [
              0.3333333333333333,
              "#9c179e"
             ],
             [
              0.4444444444444444,
              "#bd3786"
             ],
             [
              0.5555555555555556,
              "#d8576b"
             ],
             [
              0.6666666666666666,
              "#ed7953"
             ],
             [
              0.7777777777777778,
              "#fb9f3a"
             ],
             [
              0.8888888888888888,
              "#fdca26"
             ],
             [
              1,
              "#f0f921"
             ]
            ],
            "type": "surface"
           }
          ],
          "table": [
           {
            "cells": {
             "fill": {
              "color": "#EBF0F8"
             },
             "line": {
              "color": "white"
             }
            },
            "header": {
             "fill": {
              "color": "#C8D4E3"
             },
             "line": {
              "color": "white"
             }
            },
            "type": "table"
           }
          ]
         },
         "layout": {
          "annotationdefaults": {
           "arrowcolor": "#2a3f5f",
           "arrowhead": 0,
           "arrowwidth": 1
          },
          "autotypenumbers": "strict",
          "coloraxis": {
           "colorbar": {
            "outlinewidth": 0,
            "ticks": ""
           }
          },
          "colorscale": {
           "diverging": [
            [
             0,
             "#8e0152"
            ],
            [
             0.1,
             "#c51b7d"
            ],
            [
             0.2,
             "#de77ae"
            ],
            [
             0.3,
             "#f1b6da"
            ],
            [
             0.4,
             "#fde0ef"
            ],
            [
             0.5,
             "#f7f7f7"
            ],
            [
             0.6,
             "#e6f5d0"
            ],
            [
             0.7,
             "#b8e186"
            ],
            [
             0.8,
             "#7fbc41"
            ],
            [
             0.9,
             "#4d9221"
            ],
            [
             1,
             "#276419"
            ]
           ],
           "sequential": [
            [
             0,
             "#0d0887"
            ],
            [
             0.1111111111111111,
             "#46039f"
            ],
            [
             0.2222222222222222,
             "#7201a8"
            ],
            [
             0.3333333333333333,
             "#9c179e"
            ],
            [
             0.4444444444444444,
             "#bd3786"
            ],
            [
             0.5555555555555556,
             "#d8576b"
            ],
            [
             0.6666666666666666,
             "#ed7953"
            ],
            [
             0.7777777777777778,
             "#fb9f3a"
            ],
            [
             0.8888888888888888,
             "#fdca26"
            ],
            [
             1,
             "#f0f921"
            ]
           ],
           "sequentialminus": [
            [
             0,
             "#0d0887"
            ],
            [
             0.1111111111111111,
             "#46039f"
            ],
            [
             0.2222222222222222,
             "#7201a8"
            ],
            [
             0.3333333333333333,
             "#9c179e"
            ],
            [
             0.4444444444444444,
             "#bd3786"
            ],
            [
             0.5555555555555556,
             "#d8576b"
            ],
            [
             0.6666666666666666,
             "#ed7953"
            ],
            [
             0.7777777777777778,
             "#fb9f3a"
            ],
            [
             0.8888888888888888,
             "#fdca26"
            ],
            [
             1,
             "#f0f921"
            ]
           ]
          },
          "colorway": [
           "#636efa",
           "#EF553B",
           "#00cc96",
           "#ab63fa",
           "#FFA15A",
           "#19d3f3",
           "#FF6692",
           "#B6E880",
           "#FF97FF",
           "#FECB52"
          ],
          "font": {
           "color": "#2a3f5f"
          },
          "geo": {
           "bgcolor": "white",
           "lakecolor": "white",
           "landcolor": "#E5ECF6",
           "showlakes": true,
           "showland": true,
           "subunitcolor": "white"
          },
          "hoverlabel": {
           "align": "left"
          },
          "hovermode": "closest",
          "mapbox": {
           "style": "light"
          },
          "paper_bgcolor": "white",
          "plot_bgcolor": "#E5ECF6",
          "polar": {
           "angularaxis": {
            "gridcolor": "white",
            "linecolor": "white",
            "ticks": ""
           },
           "bgcolor": "#E5ECF6",
           "radialaxis": {
            "gridcolor": "white",
            "linecolor": "white",
            "ticks": ""
           }
          },
          "scene": {
           "xaxis": {
            "backgroundcolor": "#E5ECF6",
            "gridcolor": "white",
            "gridwidth": 2,
            "linecolor": "white",
            "showbackground": true,
            "ticks": "",
            "zerolinecolor": "white"
           },
           "yaxis": {
            "backgroundcolor": "#E5ECF6",
            "gridcolor": "white",
            "gridwidth": 2,
            "linecolor": "white",
            "showbackground": true,
            "ticks": "",
            "zerolinecolor": "white"
           },
           "zaxis": {
            "backgroundcolor": "#E5ECF6",
            "gridcolor": "white",
            "gridwidth": 2,
            "linecolor": "white",
            "showbackground": true,
            "ticks": "",
            "zerolinecolor": "white"
           }
          },
          "shapedefaults": {
           "line": {
            "color": "#2a3f5f"
           }
          },
          "ternary": {
           "aaxis": {
            "gridcolor": "white",
            "linecolor": "white",
            "ticks": ""
           },
           "baxis": {
            "gridcolor": "white",
            "linecolor": "white",
            "ticks": ""
           },
           "bgcolor": "#E5ECF6",
           "caxis": {
            "gridcolor": "white",
            "linecolor": "white",
            "ticks": ""
           }
          },
          "title": {
           "x": 0.05
          },
          "xaxis": {
           "automargin": true,
           "gridcolor": "white",
           "linecolor": "white",
           "ticks": "",
           "title": {
            "standoff": 15
           },
           "zerolinecolor": "white",
           "zerolinewidth": 2
          },
          "yaxis": {
           "automargin": true,
           "gridcolor": "white",
           "linecolor": "white",
           "ticks": "",
           "title": {
            "standoff": 15
           },
           "zerolinecolor": "white",
           "zerolinewidth": 2
          }
         }
        },
        "title": {
         "text": "GO"
        },
        "xaxis": {
         "anchor": "y",
         "domain": [
          0,
          1
         ],
         "title": {
          "text": "Adjusted Pvalue"
         }
        },
        "yaxis": {
         "anchor": "x",
         "domain": [
          0,
          1
         ],
         "title": {
          "text": "Terms"
         }
        }
       }
      },
      "text/html": [
       "<div>                            <div id=\"664c7a37-2462-410a-b751-ae70c1394bf4\" class=\"plotly-graph-div\" style=\"height:525px; width:100%;\"></div>            <script type=\"text/javascript\">                require([\"plotly\"], function(Plotly) {                    window.PLOTLYENV=window.PLOTLYENV || {};                                    if (document.getElementById(\"664c7a37-2462-410a-b751-ae70c1394bf4\")) {                    Plotly.newPlot(                        \"664c7a37-2462-410a-b751-ae70c1394bf4\",                        [{\"alignmentgroup\":\"True\",\"customdata\":[[\"1\\u002f38\"],[\"1\\u002f46\"],[\"1\\u002f46\"],[\"1\\u002f44\"],[\"1\\u002f33\"],[\"1\\u002f9\"],[\"1\\u002f9\"],[\"1\\u002f6\"],[\"1\\u002f6\"],[\"1\\u002f15\"],[\"1\\u002f14\"],[\"1\\u002f14\"],[\"1\\u002f12\"],[\"1\\u002f28\"],[\"1\\u002f30\"],[\"1\\u002f30\"],[\"1\\u002f31\"],[\"1\\u002f22\"],[\"1\\u002f19\"],[\"1\\u002f19\"],[\"1\\u002f15\"],[\"1\\u002f22\"],[\"1\\u002f25\"],[\"1\\u002f26\"],[\"1\\u002f26\"]],\"hovertemplate\":\"Count_gene=%{x}\\u003cbr\\u003eTerm=%{y}\\u003cbr\\u003eOverlap=%{customdata[0]}\\u003cbr\\u003eAdjusted Pvalue=%{marker.color}\\u003cextra\\u003e\\u003c\\u002fextra\\u003e\",\"legendgroup\":\"\",\"marker\":{\"color\":[0.0034073474473012,0.0034073474473012,0.0034073474473012,0.0034073474473012,0.0031427956251645,0.0030999381313408,0.0030999381313408,0.0030999381313408,0.0030999381313408,0.0030999381313408,0.0030999381313408,0.0030999381313408,0.0030999381313408,0.0030999381313408,0.0030999381313408,0.0030999381313408,0.0030999381313408,0.0030999381313408,0.0030999381313408,0.0030999381313408,0.0030999381313408,0.0030999381313408,0.0030999381313408,0.0030999381313408,0.0030999381313408],\"coloraxis\":\"coloraxis\",\"pattern\":{\"shape\":\"\"}},\"name\":\"\",\"offsetgroup\":\"\",\"orientation\":\"h\",\"showlegend\":false,\"textposition\":\"auto\",\"x\":[1,1,1,1,1,1,1,1,1,1,1,1,1,1,1,1,1,1,1,1,1,1,1,1,1],\"xaxis\":\"x\",\"y\":[\"Regulation Of Telomere Maintenance (GO:0032204)\",\"Replication Fork Processing (GO:0031297)\",\"Mitotic G2\\u002fM Transition Checkpoint (GO:0044818)\",\"Regulation Of DNA Recombination (GO:0000018)\",\"Positive Regulation Of Chromosome Organization (GO:2001252)\",\"Telomere Maintenance Via Recombination (GO:0000722)\",\"Homologous Recombination (GO:0035825)\",\"DNA Strand Resection Involved In Replication Fork Processing (GO:0110025)\",\"Negative Regulation Of Telomere Capping (GO:1904354)\",\"Negative Regulation Of Telomere Maintenance (GO:0032205)\",\"Telomere Capping (GO:0016233)\",\"Mitotic Recombination (GO:0006312)\",\"DNA Strand Elongation (GO:0022616)\",\"Negative Regulation Of G2\\u002fM Transition Of Mitotic Cell Cycle (GO:0010972)\",\"Nucleic Acid Metabolic Process (GO:0090304)\",\"DNA Geometric Change (GO:0032392)\",\"Regulation Of Protein Autophosphorylation (GO:0031952)\",\"Positive Regulation Of Protein Autophosphorylation (GO:0031954)\",\"Telomere Maintenance Via Telomerase (GO:0007004)\",\"RNA-templated DNA Biosynthetic Process (GO:0006278)\",\"DNA Double-Strand Break Processing (GO:0000729)\",\"Regulation Of Telomere Capping (GO:1904353)\",\"Mitotic Cell Cycle Checkpoint Signaling (GO:0007093)\",\"Nucleic Acid Phosphodiester Bond Hydrolysis (GO:0090305)\",\"Telomere Maintenance Via Telomere Lengthening (GO:0010833)\"],\"yaxis\":\"y\",\"type\":\"bar\"}],                        {\"template\":{\"data\":{\"histogram2dcontour\":[{\"type\":\"histogram2dcontour\",\"colorbar\":{\"outlinewidth\":0,\"ticks\":\"\"},\"colorscale\":[[0.0,\"#0d0887\"],[0.1111111111111111,\"#46039f\"],[0.2222222222222222,\"#7201a8\"],[0.3333333333333333,\"#9c179e\"],[0.4444444444444444,\"#bd3786\"],[0.5555555555555556,\"#d8576b\"],[0.6666666666666666,\"#ed7953\"],[0.7777777777777778,\"#fb9f3a\"],[0.8888888888888888,\"#fdca26\"],[1.0,\"#f0f921\"]]}],\"choropleth\":[{\"type\":\"choropleth\",\"colorbar\":{\"outlinewidth\":0,\"ticks\":\"\"}}],\"histogram2d\":[{\"type\":\"histogram2d\",\"colorbar\":{\"outlinewidth\":0,\"ticks\":\"\"},\"colorscale\":[[0.0,\"#0d0887\"],[0.1111111111111111,\"#46039f\"],[0.2222222222222222,\"#7201a8\"],[0.3333333333333333,\"#9c179e\"],[0.4444444444444444,\"#bd3786\"],[0.5555555555555556,\"#d8576b\"],[0.6666666666666666,\"#ed7953\"],[0.7777777777777778,\"#fb9f3a\"],[0.8888888888888888,\"#fdca26\"],[1.0,\"#f0f921\"]]}],\"heatmap\":[{\"type\":\"heatmap\",\"colorbar\":{\"outlinewidth\":0,\"ticks\":\"\"},\"colorscale\":[[0.0,\"#0d0887\"],[0.1111111111111111,\"#46039f\"],[0.2222222222222222,\"#7201a8\"],[0.3333333333333333,\"#9c179e\"],[0.4444444444444444,\"#bd3786\"],[0.5555555555555556,\"#d8576b\"],[0.6666666666666666,\"#ed7953\"],[0.7777777777777778,\"#fb9f3a\"],[0.8888888888888888,\"#fdca26\"],[1.0,\"#f0f921\"]]}],\"heatmapgl\":[{\"type\":\"heatmapgl\",\"colorbar\":{\"outlinewidth\":0,\"ticks\":\"\"},\"colorscale\":[[0.0,\"#0d0887\"],[0.1111111111111111,\"#46039f\"],[0.2222222222222222,\"#7201a8\"],[0.3333333333333333,\"#9c179e\"],[0.4444444444444444,\"#bd3786\"],[0.5555555555555556,\"#d8576b\"],[0.6666666666666666,\"#ed7953\"],[0.7777777777777778,\"#fb9f3a\"],[0.8888888888888888,\"#fdca26\"],[1.0,\"#f0f921\"]]}],\"contourcarpet\":[{\"type\":\"contourcarpet\",\"colorbar\":{\"outlinewidth\":0,\"ticks\":\"\"}}],\"contour\":[{\"type\":\"contour\",\"colorbar\":{\"outlinewidth\":0,\"ticks\":\"\"},\"colorscale\":[[0.0,\"#0d0887\"],[0.1111111111111111,\"#46039f\"],[0.2222222222222222,\"#7201a8\"],[0.3333333333333333,\"#9c179e\"],[0.4444444444444444,\"#bd3786\"],[0.5555555555555556,\"#d8576b\"],[0.6666666666666666,\"#ed7953\"],[0.7777777777777778,\"#fb9f3a\"],[0.8888888888888888,\"#fdca26\"],[1.0,\"#f0f921\"]]}],\"surface\":[{\"type\":\"surface\",\"colorbar\":{\"outlinewidth\":0,\"ticks\":\"\"},\"colorscale\":[[0.0,\"#0d0887\"],[0.1111111111111111,\"#46039f\"],[0.2222222222222222,\"#7201a8\"],[0.3333333333333333,\"#9c179e\"],[0.4444444444444444,\"#bd3786\"],[0.5555555555555556,\"#d8576b\"],[0.6666666666666666,\"#ed7953\"],[0.7777777777777778,\"#fb9f3a\"],[0.8888888888888888,\"#fdca26\"],[1.0,\"#f0f921\"]]}],\"mesh3d\":[{\"type\":\"mesh3d\",\"colorbar\":{\"outlinewidth\":0,\"ticks\":\"\"}}],\"scatter\":[{\"fillpattern\":{\"fillmode\":\"overlay\",\"size\":10,\"solidity\":0.2},\"type\":\"scatter\"}],\"parcoords\":[{\"type\":\"parcoords\",\"line\":{\"colorbar\":{\"outlinewidth\":0,\"ticks\":\"\"}}}],\"scatterpolargl\":[{\"type\":\"scatterpolargl\",\"marker\":{\"colorbar\":{\"outlinewidth\":0,\"ticks\":\"\"}}}],\"bar\":[{\"error_x\":{\"color\":\"#2a3f5f\"},\"error_y\":{\"color\":\"#2a3f5f\"},\"marker\":{\"line\":{\"color\":\"#E5ECF6\",\"width\":0.5},\"pattern\":{\"fillmode\":\"overlay\",\"size\":10,\"solidity\":0.2}},\"type\":\"bar\"}],\"scattergeo\":[{\"type\":\"scattergeo\",\"marker\":{\"colorbar\":{\"outlinewidth\":0,\"ticks\":\"\"}}}],\"scatterpolar\":[{\"type\":\"scatterpolar\",\"marker\":{\"colorbar\":{\"outlinewidth\":0,\"ticks\":\"\"}}}],\"histogram\":[{\"marker\":{\"pattern\":{\"fillmode\":\"overlay\",\"size\":10,\"solidity\":0.2}},\"type\":\"histogram\"}],\"scattergl\":[{\"type\":\"scattergl\",\"marker\":{\"colorbar\":{\"outlinewidth\":0,\"ticks\":\"\"}}}],\"scatter3d\":[{\"type\":\"scatter3d\",\"line\":{\"colorbar\":{\"outlinewidth\":0,\"ticks\":\"\"}},\"marker\":{\"colorbar\":{\"outlinewidth\":0,\"ticks\":\"\"}}}],\"scattermapbox\":[{\"type\":\"scattermapbox\",\"marker\":{\"colorbar\":{\"outlinewidth\":0,\"ticks\":\"\"}}}],\"scatterternary\":[{\"type\":\"scatterternary\",\"marker\":{\"colorbar\":{\"outlinewidth\":0,\"ticks\":\"\"}}}],\"scattercarpet\":[{\"type\":\"scattercarpet\",\"marker\":{\"colorbar\":{\"outlinewidth\":0,\"ticks\":\"\"}}}],\"carpet\":[{\"aaxis\":{\"endlinecolor\":\"#2a3f5f\",\"gridcolor\":\"white\",\"linecolor\":\"white\",\"minorgridcolor\":\"white\",\"startlinecolor\":\"#2a3f5f\"},\"baxis\":{\"endlinecolor\":\"#2a3f5f\",\"gridcolor\":\"white\",\"linecolor\":\"white\",\"minorgridcolor\":\"white\",\"startlinecolor\":\"#2a3f5f\"},\"type\":\"carpet\"}],\"table\":[{\"cells\":{\"fill\":{\"color\":\"#EBF0F8\"},\"line\":{\"color\":\"white\"}},\"header\":{\"fill\":{\"color\":\"#C8D4E3\"},\"line\":{\"color\":\"white\"}},\"type\":\"table\"}],\"barpolar\":[{\"marker\":{\"line\":{\"color\":\"#E5ECF6\",\"width\":0.5},\"pattern\":{\"fillmode\":\"overlay\",\"size\":10,\"solidity\":0.2}},\"type\":\"barpolar\"}],\"pie\":[{\"automargin\":true,\"type\":\"pie\"}]},\"layout\":{\"autotypenumbers\":\"strict\",\"colorway\":[\"#636efa\",\"#EF553B\",\"#00cc96\",\"#ab63fa\",\"#FFA15A\",\"#19d3f3\",\"#FF6692\",\"#B6E880\",\"#FF97FF\",\"#FECB52\"],\"font\":{\"color\":\"#2a3f5f\"},\"hovermode\":\"closest\",\"hoverlabel\":{\"align\":\"left\"},\"paper_bgcolor\":\"white\",\"plot_bgcolor\":\"#E5ECF6\",\"polar\":{\"bgcolor\":\"#E5ECF6\",\"angularaxis\":{\"gridcolor\":\"white\",\"linecolor\":\"white\",\"ticks\":\"\"},\"radialaxis\":{\"gridcolor\":\"white\",\"linecolor\":\"white\",\"ticks\":\"\"}},\"ternary\":{\"bgcolor\":\"#E5ECF6\",\"aaxis\":{\"gridcolor\":\"white\",\"linecolor\":\"white\",\"ticks\":\"\"},\"baxis\":{\"gridcolor\":\"white\",\"linecolor\":\"white\",\"ticks\":\"\"},\"caxis\":{\"gridcolor\":\"white\",\"linecolor\":\"white\",\"ticks\":\"\"}},\"coloraxis\":{\"colorbar\":{\"outlinewidth\":0,\"ticks\":\"\"}},\"colorscale\":{\"sequential\":[[0.0,\"#0d0887\"],[0.1111111111111111,\"#46039f\"],[0.2222222222222222,\"#7201a8\"],[0.3333333333333333,\"#9c179e\"],[0.4444444444444444,\"#bd3786\"],[0.5555555555555556,\"#d8576b\"],[0.6666666666666666,\"#ed7953\"],[0.7777777777777778,\"#fb9f3a\"],[0.8888888888888888,\"#fdca26\"],[1.0,\"#f0f921\"]],\"sequentialminus\":[[0.0,\"#0d0887\"],[0.1111111111111111,\"#46039f\"],[0.2222222222222222,\"#7201a8\"],[0.3333333333333333,\"#9c179e\"],[0.4444444444444444,\"#bd3786\"],[0.5555555555555556,\"#d8576b\"],[0.6666666666666666,\"#ed7953\"],[0.7777777777777778,\"#fb9f3a\"],[0.8888888888888888,\"#fdca26\"],[1.0,\"#f0f921\"]],\"diverging\":[[0,\"#8e0152\"],[0.1,\"#c51b7d\"],[0.2,\"#de77ae\"],[0.3,\"#f1b6da\"],[0.4,\"#fde0ef\"],[0.5,\"#f7f7f7\"],[0.6,\"#e6f5d0\"],[0.7,\"#b8e186\"],[0.8,\"#7fbc41\"],[0.9,\"#4d9221\"],[1,\"#276419\"]]},\"xaxis\":{\"gridcolor\":\"white\",\"linecolor\":\"white\",\"ticks\":\"\",\"title\":{\"standoff\":15},\"zerolinecolor\":\"white\",\"automargin\":true,\"zerolinewidth\":2},\"yaxis\":{\"gridcolor\":\"white\",\"linecolor\":\"white\",\"ticks\":\"\",\"title\":{\"standoff\":15},\"zerolinecolor\":\"white\",\"automargin\":true,\"zerolinewidth\":2},\"scene\":{\"xaxis\":{\"backgroundcolor\":\"#E5ECF6\",\"gridcolor\":\"white\",\"linecolor\":\"white\",\"showbackground\":true,\"ticks\":\"\",\"zerolinecolor\":\"white\",\"gridwidth\":2},\"yaxis\":{\"backgroundcolor\":\"#E5ECF6\",\"gridcolor\":\"white\",\"linecolor\":\"white\",\"showbackground\":true,\"ticks\":\"\",\"zerolinecolor\":\"white\",\"gridwidth\":2},\"zaxis\":{\"backgroundcolor\":\"#E5ECF6\",\"gridcolor\":\"white\",\"linecolor\":\"white\",\"showbackground\":true,\"ticks\":\"\",\"zerolinecolor\":\"white\",\"gridwidth\":2}},\"shapedefaults\":{\"line\":{\"color\":\"#2a3f5f\"}},\"annotationdefaults\":{\"arrowcolor\":\"#2a3f5f\",\"arrowhead\":0,\"arrowwidth\":1},\"geo\":{\"bgcolor\":\"white\",\"landcolor\":\"#E5ECF6\",\"subunitcolor\":\"white\",\"showland\":true,\"showlakes\":true,\"lakecolor\":\"white\"},\"title\":{\"x\":0.05},\"mapbox\":{\"style\":\"light\"}}},\"xaxis\":{\"anchor\":\"y\",\"domain\":[0.0,1.0],\"title\":{\"text\":\"Adjusted Pvalue\"}},\"yaxis\":{\"anchor\":\"x\",\"domain\":[0.0,1.0],\"title\":{\"text\":\"Terms\"}},\"coloraxis\":{\"colorbar\":{\"title\":{\"text\":\"Adjusted Pvalue\"},\"exponentformat\":\"e\"},\"colorscale\":[[0.0,\"#0d0887\"],[0.1111111111111111,\"#46039f\"],[0.2222222222222222,\"#7201a8\"],[0.3333333333333333,\"#9c179e\"],[0.4444444444444444,\"#bd3786\"],[0.5555555555555556,\"#d8576b\"],[0.6666666666666666,\"#ed7953\"],[0.7777777777777778,\"#fb9f3a\"],[0.8888888888888888,\"#fdca26\"],[1.0,\"#f0f921\"]]},\"legend\":{\"tracegroupgap\":0,\"title\":{\"text\":\"Adjusted Pvalue\"}},\"title\":{\"text\":\"GO\"},\"barmode\":\"relative\"},                        {\"responsive\": true}                    ).then(function(){\n",
       "                            \n",
       "var gd = document.getElementById('664c7a37-2462-410a-b751-ae70c1394bf4');\n",
       "var x = new MutationObserver(function (mutations, observer) {{\n",
       "        var display = window.getComputedStyle(gd).display;\n",
       "        if (!display || display === 'none') {{\n",
       "            console.log([gd, 'removed!']);\n",
       "            Plotly.purge(gd);\n",
       "            observer.disconnect();\n",
       "        }}\n",
       "}});\n",
       "\n",
       "// Listen for the removal of the full notebook cells\n",
       "var notebookContainer = gd.closest('#notebook-container');\n",
       "if (notebookContainer) {{\n",
       "    x.observe(notebookContainer, {childList: true});\n",
       "}}\n",
       "\n",
       "// Listen for the clearing of the current output cell\n",
       "var outputEl = gd.closest('.output');\n",
       "if (outputEl) {{\n",
       "    x.observe(outputEl, {childList: true});\n",
       "}}\n",
       "\n",
       "                        })                };                });            </script>        </div>"
      ]
     },
     "metadata": {},
     "output_type": "display_data"
    }
   ],
   "source": [
    "df = pd.read_csv(os.path.join(OUTPUT_ROOT_PATH, \"Arricchimento_all_genes\", \"GO\", \"biological_0.csv\"))\n",
    "\n",
    "df=df[df[\"Adjusted.P.value\"] < 0.05]\n",
    "df = df.sort_values(by=['Adjusted.P.value'], ascending=False)[-25:]\n",
    "df[\"Count_gene\"]=df.apply(lambda e: len(e[\"Genes\"].split(\";\")),axis=1)\n",
    "fig=px.bar(df, x='Count_gene', y='Term',\n",
    "    hover_data=['Overlap'], color='Adjusted.P.value', title='GO',labels={'Adjusted.P.value': 'Adjusted Pvalue'})\n",
    "fig.update_layout(\n",
    "    xaxis_title=\"Adjusted Pvalue\",  # Nome dell'asse delle x\n",
    "    yaxis_title=\"Terms\",\n",
    "    legend_title=\"Adjusted Pvalue\",\n",
    "    coloraxis_colorbar=dict(exponentformat=\"e\")\n",
    ")\n",
    "fig"
   ]
  },
  {
   "cell_type": "code",
   "execution_count": 46,
   "metadata": {},
   "outputs": [],
   "source": [
    "#UPDATE GO FIGURE\n",
    "@callback(\n",
    "    Output(component_id='fig_go', component_property='figure'),\n",
    "    [\n",
    "        Input(component_id='dropdown-cluster', component_property='value'),\n",
    "        Input(component_id='dropdown-pvalue', component_property='value'),\n",
    "        Input(component_id='dropdown-adjusted-pvalue', component_property='value'),\n",
    "        Input(component_id='radio_fig_go', component_property='value')\n",
    "    ]\n",
    ")\n",
    "def update_go(cluster,pvalue,adjusted_pvalue,process_type):\n",
    "    df = pd.read_csv(os.path.join(OUTPUT_ROOT_PATH, \"Arricchimento_all_genes\", \"GO\", f\"{process_type}_{cluster}.csv\"))\n",
    "    if adjusted_pvalue == \"True\":\n",
    "        df=df[df[\"Adjusted.P.value\"] < pvalue]\n",
    "        df = df.sort_values(by=['Adjusted.P.value'], ascending=False)[-25:]\n",
    "        df[\"Count_gene\"]=df.apply(lambda e: len(e[\"Genes\"].split(\";\")),axis=1)\n",
    "        fig=px.bar(df, x='Count_gene', y='Term',\n",
    "            hover_data=['Overlap'], color='Adjusted.P.value', title='GO',labels={'Adjusted.P.value': 'Adjusted Pvalue'})\n",
    "        fig.update_layout(xaxis_title=\"Genes_Count\", yaxis_title=\"Terms\",legend_title=\"Adjusted Pvalue\", coloraxis_colorbar=dict(exponentformat=\"e\"))\n",
    "        return fig\n",
    "    else:\n",
    "        df=df[df[\"P.value\"] < pvalue]\n",
    "        df = df.sort_values(by=['P.value'], ascending=False)[-25:]\n",
    "        df[\"Count_gene\"]=df.apply(lambda e: len(e[\"Genes\"].split(\";\")),axis=1)\n",
    "        fig=px.bar(df, x='Count_gene', y='Term',\n",
    "            hover_data=['Overlap'], color='P.value', title='GO',labels={'P.value': 'Pvalue'})\n",
    "        fig.update_layout(xaxis_title=\"Genes_Count\", yaxis_title=\"Terms\",legend_title=\"Pvalue\", coloraxis_colorbar=dict(exponentformat=\"e\"))\n",
    "        return fig\n",
    "\n",
    "#UPDATE KEGG FIGURE\n",
    "@callback(\n",
    "    Output(component_id='fig_kegg', component_property='figure'),\n",
    "    [\n",
    "        Input(component_id='dropdown-cluster', component_property='value'),\n",
    "        Input(component_id='dropdown-pvalue', component_property='value'),\n",
    "        Input(component_id='dropdown-adjusted-pvalue', component_property='value')\n",
    "    ]\n",
    ")\n",
    "def update_kegg(cluster,pvalue,adjusted_pvalue):\n",
    "    df = pd.read_csv(os.path.join(OUTPUT_ROOT_PATH, \"Arricchimento_all_genes\", \"KEGG\", f\"kegg_{cluster}.csv\"))\n",
    "    if adjusted_pvalue == \"True\":\n",
    "        df=df[df[\"KEGG_2021_Human.Adjusted.P.value\"] < pvalue]\n",
    "        df = df.sort_values(by=['KEGG_2021_Human.Adjusted.P.value'],ascending=False)[-25:]\n",
    "        df[\"Count_gene\"]=df.apply(lambda e: len(e[\"KEGG_2021_Human.Genes\"].split(\";\")),axis=1)\n",
    "        fig= px.bar(df, x='Count_gene', y='KEGG_2021_Human.Term',\n",
    "            hover_data=['KEGG_2021_Human.Overlap'], color='KEGG_2021_Human.Adjusted.P.value',title='KEGG',color_continuous_scale=px.colors.sequential.Viridis,labels={'KEGG_2021_Human.P.value': 'Adjusted Pvalue'})\n",
    "        fig.update_layout(xaxis_title=\"Genes_Count\",  # Nome dell'asse delle x\n",
    "        yaxis_title=\"Terms\",legend_title=\"Adjusted Pvalue\",coloraxis_colorbar=dict(exponentformat=\"e\"))\n",
    "        return fig\n",
    "    else:\n",
    "        df=df[df[\"KEGG_2021_Human.P.value\"] < pvalue]\n",
    "        df = df.sort_values(by=['KEGG_2021_Human.P.value'],ascending=False)[-25:]\n",
    "        df[\"Count_gene\"]=df.apply(lambda e: len(e[\"KEGG_2021_Human.Genes\"].split(\";\")),axis=1)\n",
    "        fig= px.bar(df, x='Count_gene', y='KEGG_2021_Human.Term',\n",
    "            hover_data=['KEGG_2021_Human.Overlap'], color='KEGG_2021_Human.P.value',title='KEGG',color_continuous_scale=px.colors.sequential.Viridis,\n",
    "            labels={'KEGG_2021_Human.P.value': 'Pvalue'})\n",
    "        fig.update_layout(xaxis_title=\"Genes_Count\",  # Nome dell'asse delle x\n",
    "        yaxis_title=\"Terms\", legend_title=\"Pvalue\",coloraxis_colorbar=dict(exponentformat=\"e\"))\n",
    "        return fig\n",
    "    \n",
    "#UPDATE REACTOME FIGURE\n",
    "@callback(\n",
    "    Output(component_id='fig_reactome', component_property='figure'),\n",
    "    [\n",
    "        Input(component_id='dropdown-cluster', component_property='value'),\n",
    "        Input(component_id='dropdown-pvalue', component_property='value'),\n",
    "        Input(component_id='dropdown-adjusted-pvalue', component_property='value')\n",
    "    ]\n",
    ")\n",
    "def update_kegg(cluster,pvalue,adjusted_pvalue):\n",
    "    df = pd.read_csv(os.path.join(OUTPUT_ROOT_PATH, \"Arricchimento_all_genes\", \"REACTOME\", f\"reactome_{cluster}.csv\"))\n",
    "    if adjusted_pvalue == \"True\":\n",
    "        df=df[df[\"Reactome_2022.Adjusted.P.value\"] < pvalue]\n",
    "        df = df.sort_values(by=['Reactome_2022.Adjusted.P.value'],ascending=False)[-25:]\n",
    "        df[\"Count_gene\"]=df.apply(lambda e: len(e[\"Reactome_2022.Genes\"].split(\";\")),axis=1)\n",
    "        fig= px.bar(df, x='Count_gene', y='Reactome_2022.Term',\n",
    "            hover_data=['Reactome_2022.Overlap'], color='Reactome_2022.Adjusted.P.value',title='REACTOME',color_continuous_scale=px.colors.sequential.Viridis,labels={'Reactome_2022.P.value': 'Adjusted Pvalue'})\n",
    "        fig.update_layout(xaxis_title=\"Genes_Count\",  # Nome dell'asse delle x\n",
    "        yaxis_title=\"Terms\",legend_title=\"Adjusted Pvalue\",coloraxis_colorbar=dict(exponentformat=\"e\"))\n",
    "        return fig\n",
    "    else:\n",
    "        df=df[df[\"Reactome_2022.P.value\"] < pvalue]\n",
    "        df = df.sort_values(by=['Reactome_2022.P.value'],ascending=False)[-25:]\n",
    "        df[\"Count_gene\"]=df.apply(lambda e: len(e[\"Reactome_2022.Genes\"].split(\";\")),axis=1)\n",
    "        fig= px.bar(df, x='Count_gene', y='Reactome_2022.Term',\n",
    "            hover_data=['Reactome_2022.Overlap'], color='Reactome_2022.P.value',title='REACTOME',color_continuous_scale=px.colors.sequential.Viridis,\n",
    "            labels={'Reactome_2022.P.value': 'Pvalue'})\n",
    "        fig.update_layout(xaxis_title=\"Genes_Count\",  # Nome dell'asse delle x\n",
    "        yaxis_title=\"Terms\", legend_title=\"Pvalue\",coloraxis_colorbar=dict(exponentformat=\"e\"))\n",
    "        return fig\n",
    "    \n",
    "#UPDATE WIKI FIGURE\n",
    "@callback(\n",
    "    Output(component_id='fig_wiki', component_property='figure'),\n",
    "    [\n",
    "        Input(component_id='dropdown-cluster', component_property='value'),\n",
    "        Input(component_id='dropdown-pvalue', component_property='value'),\n",
    "        Input(component_id='dropdown-adjusted-pvalue', component_property='value')\n",
    "    ]\n",
    ")\n",
    "def update_wiki(cluster,pvalue,adjusted_pvalue):\n",
    "    df = pd.read_csv(os.path.join(OUTPUT_ROOT_PATH, \"Arricchimento_all_genes\", \"WIKI\", f\"wiki_{cluster}.csv\"))\n",
    "    if adjusted_pvalue == \"True\":\n",
    "        df=df[df[\"WikiPathway_2023_Human.Adjusted.P.value\"] < pvalue]\n",
    "        df = df.sort_values(by=['WikiPathway_2023_Human.Adjusted.P.value'],ascending=False)[-25:]\n",
    "        df[\"Count_gene\"]=df.apply(lambda e: len(e[\"WikiPathway_2023_Human.Genes\"].split(\";\")),axis=1)\n",
    "        fig= px.bar(df, x='Count_gene', y='WikiPathway_2023_Human.Term',\n",
    "            hover_data=['WikiPathway_2023_Human.Overlap'], color='WikiPathway_2023_Human.Adjusted.P.value',title='WikiPathway',color_continuous_scale=px.colors.sequential.Viridis,labels={'WikiPathway_2023_Human.Adjusted.P.value': 'Adjusted Pvalue','WikiPathway_2023_Human.Overlap':'Overlap_Genes'})\n",
    "        fig.update_layout(xaxis_title=\"Genes_Count\",  # Nome dell'asse delle x\n",
    "        yaxis_title=\"Terms\",legend_title=\"Adjusted Pvalue\",coloraxis_colorbar=dict(exponentformat=\"e\"))\n",
    "        return fig\n",
    "    else:\n",
    "        df=df[df[\"WikiPathway_2023_Human.P.value\"] < pvalue]\n",
    "        df = df.sort_values(by=['WikiPathway_2023_Human.P.value'],ascending=False)[-25:]\n",
    "        df[\"Count_gene\"]=df.apply(lambda e: len(e[\"WikiPathway_2023_Human.Genes\"].split(\";\")),axis=1)\n",
    "        fig= px.bar(df, x='Count_gene', y='WikiPathway_2023_Human.Term',\n",
    "            hover_data=['WikiPathway_2023_Human.Overlap'], color='WikiPathway_2023_Human.P.value',title='WikiPathway',color_continuous_scale=px.colors.sequential.Viridis,\n",
    "            labels={'WikiPathway_2023_Human.P.value': 'Pvalue','WikiPathway_2023_Human.Overlap':'Overlap_Genes'})\n",
    "        fig.update_layout(xaxis_title=\"Genes_Count\",  # Nome dell'asse delle x\n",
    "        yaxis_title=\"Terms\", legend_title=\"Pvalue\",coloraxis_colorbar=dict(exponentformat=\"e\"))\n",
    "        return fig\n"
   ]
  },
  {
   "cell_type": "markdown",
   "metadata": {},
   "source": [
    "## CLUSTER COMPARISION PAGE"
   ]
  },
  {
   "cell_type": "code",
   "execution_count": 47,
   "metadata": {},
   "outputs": [],
   "source": [
    "#UPDATE COMPARISION\n",
    "@callback(\n",
    "    Output(component_id='plot-venn', component_property='src'),\n",
    "    Input(component_id='dropdown-cluster-multi', component_property='value')\n",
    ")\n",
    "def update_venn(list_clusters):\n",
    "    cluster_gene_list=[]\n",
    "    for index in list_clusters:\n",
    "        gene_values = []\n",
    "        if index == \"ALL\":\n",
    "            gene_values = pd.read_csv(os.path.join(OUTPUT_ROOT_PATH, \"distribution_gene_cluster.csv\"), sep=\"\\t\")[\"Gene\"].unique()\n",
    "        else:\n",
    "            gene_values = pd.read_csv(os.path.join(OUTPUT_ROOT_PATH, \"Gene_Count\", f\"genes_cluster_{index}.csv\"),sep=\"\\t\")[\"GENE\"].values\n",
    "        cluster_gene_list.append(gene_values)\n",
    "    labels = venn.get_labels(cluster_gene_list, fill=['number'])\n",
    "\n",
    "    fig, ax= None, None\n",
    "    match len(list_clusters):\n",
    "        case 2:\n",
    "            fig, ax = venn.venn2(labels, names=list_clusters)\n",
    "        case 3:\n",
    "            fig, ax = venn.venn3(labels, names=list_clusters)\n",
    "        case 4:\n",
    "            fig, ax = venn.venn4(labels, names=list_clusters)\n",
    "        case 5:\n",
    "            fig, ax = venn.venn5(labels, names=list_clusters)\n",
    "        case 6:\n",
    "            fig, ax = venn.venn6(labels, names=list_clusters)\n",
    "        case _:\n",
    "            return None\n",
    "\n",
    "    ax.set_title('Gene Comparision')\n",
    "    #SAVE TO BUFFER\n",
    "    buf = BytesIO()\n",
    "    fig.savefig(buf, format=\"png\")\n",
    "    fig_data = base64.b64encode(buf.getbuffer()).decode(\"ascii\")\n",
    "    fig_bar_matplotlib = f'data:image/png;base64,{fig_data}'\n",
    "    plt.figure().clear()\n",
    "    plt.close()\n",
    "    plt.cla()\n",
    "    plt.clf()\n",
    "    return fig_bar_matplotlib\n",
    "\n",
    "#TABLE GENES_COMMON:\n",
    "@callback(\n",
    "    Output(component_id=\"table_gene_common\",component_property=\"figure\"),\n",
    "    Input(component_id='dropdown-cluster-multi', component_property='value')\n",
    ")\n",
    "def update_genes_common(list_clusters):\n",
    "    cluster_gene_list={}\n",
    "    all_gene_set=set()\n",
    "    for index in list_clusters:\n",
    "        gene_values=[]\n",
    "        if index == \"ALL\":\n",
    "            gene_values = list(pd.read_csv(os.path.join(OUTPUT_ROOT_PATH, \"distribution_gene_cluster.csv\"), sep=\"\\t\")[\"Gene\"].unique())\n",
    "            cluster_gene_list[\"ALL\"]=gene_values\n",
    "        else:\n",
    "            gene_values = list(pd.read_csv(os.path.join(OUTPUT_ROOT_PATH, \"Gene_Count\", f\"genes_cluster_{index}.csv\"),sep=\"\\t\")[\"GENE\"].unique())\n",
    "            cluster_gene_list[index]=gene_values\n",
    "        all_gene_set.update(gene_values)\n",
    "    \n",
    "    df = pd.DataFrame({'gene': list(all_gene_set)})\n",
    "    for cluster, genes in cluster_gene_list.items():\n",
    "        df[cluster] = df['gene'].apply(lambda x: '🟢' if x in genes else '🔴')\n",
    "\n",
    "    df = df.sort_values(by=list_clusters,ascending=False)\n",
    "    values=[df[\"gene\"].values]\n",
    "    columns_name=[\"Gene\"]\n",
    "    for i in list_clusters:\n",
    "        columns_name.append(f\"Cluster {i}\")\n",
    "        values.append(df[i])\n",
    "\n",
    "    fig = go.Figure(data=[go.Table(\n",
    "        header=dict(values=columns_name,fill_color='paleturquoise',align='left'),\n",
    "        cells=dict(values=values,fill_color='lavender',align='left'))\n",
    "    ])\n",
    "    return fig\n",
    "\n",
    "#MULTI IMAGE BOX/PIE\n",
    "def func_multi_plot(list_clusters, column_name):\n",
    "    fig = None\n",
    "    if column_name in NUMERIC_COLUMNS_CLINICAL:\n",
    "        if \"ALL\" in list_clusters:\n",
    "            DF_ALL = DF_CLINICAL_DATA.copy()\n",
    "            DF_ALL['cluster_plot'] = \"ALL\"\n",
    "            DF = DF_CLINICAL_DATA[DF_CLINICAL_DATA[\"cluster\"].isin(list_clusters)]\n",
    "            DF_ALL.dropna(subset=[column_name],inplace=True)\n",
    "            DF.dropna(subset=[column_name],inplace=True)\n",
    "            DF['cluster_plot'] = DF['cluster'].apply(lambda x: f'cluster_{x}')\n",
    "            fig = tap.plot_stats(pd.concat([DF,DF_ALL]), \"cluster_plot\", column_name)\n",
    "        else:\n",
    "            DF=DF_CLINICAL_DATA[DF_CLINICAL_DATA[\"cluster\"].isin(list_clusters)]\n",
    "            DF.dropna(subset=[column_name],inplace=True)\n",
    "            DF['cluster_plot'] = DF['cluster'].apply(lambda x: f'cluster_{x}')\n",
    "            fig = tap.plot_stats(DF, \"cluster_plot\", column_name)\n",
    "    else:\n",
    "        fig = make_subplots(1,len(list_clusters),subplot_titles=[f\"cluster {e}\" for e in list_clusters], specs=[[{'type':'domain'} for e in list_clusters]])\n",
    "        for i,index in enumerate(list_clusters):\n",
    "            _cluster_values=None\n",
    "            if index==\"ALL\":\n",
    "                _cluster_values = DF_CLINICAL_DATA[column_name]\n",
    "            else:\n",
    "                _cluster_values = DF_CLINICAL_DATA[DF_CLINICAL_DATA[\"cluster\"] == index][column_name]\n",
    "            _temp_dict = dict(_cluster_values.value_counts())\n",
    "            fig.add_trace(go.Pie(labels=list(_temp_dict.keys()),values=list(_temp_dict.values()),scalegroup=\"one\"),1,i+1)\n",
    "    return fig\n",
    "\n",
    "#UPDATE MULTI FIG1\n",
    "@callback(\n",
    "    Output(component_id='fig_multi_fig1', component_property='figure'),\n",
    "    [\n",
    "        Input(component_id='dropdown-cluster-multi', component_property='value'),\n",
    "        Input(component_id='dropdown-multi-fig1', component_property='value')\n",
    "    ]\n",
    ")\n",
    "def update_multi_fig1(list_clusters, column_name):\n",
    "    return func_multi_plot(list_clusters, column_name)\n",
    "\n",
    "#UPDATE MULTI FIG2\n",
    "@callback(   \n",
    "    Output(component_id='fig_multi_fig2', component_property='figure'),\n",
    "    [\n",
    "        Input(component_id='dropdown-cluster-multi', component_property='value'),\n",
    "        Input(component_id='dropdown-multi-fig2', component_property='value')\n",
    "    ])\n",
    "\n",
    "def update_multi_fig2(list_clusters,column_name):\n",
    "    return func_multi_plot(list_clusters, column_name)\n"
   ]
  },
  {
   "cell_type": "markdown",
   "metadata": {},
   "source": [
    "## CLINICAL DATA PAGE"
   ]
  },
  {
   "cell_type": "code",
   "execution_count": 48,
   "metadata": {},
   "outputs": [],
   "source": [
    "#SINGLE IMAGE BOX/PIE\n",
    "def func_single_plot(cluster, column_name):\n",
    "    cluster_values = DF_CLINICAL_DATA[DF_CLINICAL_DATA[\"cluster\"] == cluster][column_name]\n",
    "\n",
    "    if column_name in NUMERIC_COLUMNS_CLINICAL:\n",
    "        fig=px.box(cluster_values, y=column_name)\n",
    "        return fig\n",
    "    else:\n",
    "        _temp_dict = dict(cluster_values.value_counts())\n",
    "        _temp_df = pd.DataFrame({column_name: _temp_dict.keys(), \"count\": _temp_dict.values()})\n",
    "        fig=px.pie(_temp_df,values=\"count\", names=column_name)\n",
    "        return fig    \n",
    "\n",
    "#UPDATE BOX_PLOT_1\n",
    "@callback(\n",
    "    Output(component_id='fig_box_plot_1', component_property='figure'),\n",
    "    [\n",
    "        Input(component_id='dropdown-cluster', component_property='value'),\n",
    "        Input(component_id='dropdown-box-1', component_property='value')\n",
    "    ]\n",
    ")\n",
    "def update_box_1(cluster, column_name):\n",
    "    return func_single_plot(cluster, column_name)\n",
    "\n",
    "#UPDATE BOX_PLOT_2\n",
    "@callback(\n",
    "    Output(component_id='fig_box_plot_2', component_property='figure'),\n",
    "    [\n",
    "        Input(component_id='dropdown-cluster', component_property='value'),\n",
    "        Input(component_id='dropdown-box-2', component_property='value')\n",
    "    ]\n",
    ")\n",
    "def update_box_2(cluster, column_name):\n",
    "    return func_single_plot(cluster, column_name)\n",
    "\n",
    "#TABLE CLINICAL_DATA:\n",
    "@callback(\n",
    "    Output(component_id=\"table_clinical_data\",component_property=\"data\"),\n",
    "    Input(component_id='dropdown-cluster', component_property='value')\n",
    ")\n",
    "def update_table_clinical_data(cluster):\n",
    "    cluster_values = DF_CLINICAL_DATA[DF_CLINICAL_DATA[\"cluster\"] == cluster]\n",
    "    return cluster_values.to_dict('records')\n",
    "\n",
    "#TABLE GENE CLINICAL DATA\n",
    "@callback(\n",
    "    Output(component_id=\"table_clinical_data_gene\",component_property=\"data\"),\n",
    "    Output(component_id=\"table_mutational_gene\",component_property=\"data\"),\n",
    "    [Input(component_id='dropdown-cluster', component_property='value'),\n",
    "     Input(component_id='dropdown-genes-multi', component_property='value')]\n",
    ")\n",
    "def select_gene_data(cluster,genes):\n",
    "    #gene_data=pd.read_csv(os.path.join(OUTPUT_ROOT_PATH,\"Gene\",f\"genes_cluster_{cluster}.csv\"),names=[\"Gene\"])\n",
    "    data_mutational=pd.read_csv(f\"./{NAME_STUDY}/data_mutational_filtered.txt\",sep=\"\\t\")\n",
    "    cluster_values = DF_CLINICAL_DATA[DF_CLINICAL_DATA[\"cluster\"] == cluster]\n",
    "    patient_cluster=cluster_values[\"SAMPLE_ID\"].unique()\n",
    "    patient_for_gene=[]\n",
    "    for gene in genes:\n",
    "        data_mutational_cluster=data_mutational[data_mutational[\"Tumor_Sample_Barcode\"].isin(patient_cluster)]\n",
    "        paz_mut=data_mutational_cluster[data_mutational_cluster[\"Hugo_Symbol\"]==gene][\"Tumor_Sample_Barcode\"].unique()\n",
    "        patient_for_gene.append(set(paz_mut))\n",
    "    paz_mut_all= set.intersection(*patient_for_gene)\n",
    "\n",
    "    mutational_cluster=data_mutational[(data_mutational[\"Tumor_Sample_Barcode\"].isin(paz_mut_all)) & (data_mutational[\"Hugo_Symbol\"].isin(genes))]\n",
    "    cluster_values=cluster_values[cluster_values[\"SAMPLE_ID\"].isin(paz_mut_all)]\n",
    "    return cluster_values.to_dict('records'),mutational_cluster.to_dict('records')\n",
    "    \n"
   ]
  },
  {
   "cell_type": "code",
   "execution_count": 49,
   "metadata": {},
   "outputs": [
    {
     "data": {
      "text/html": [
       "<div>\n",
       "<style scoped>\n",
       "    .dataframe tbody tr th:only-of-type {\n",
       "        vertical-align: middle;\n",
       "    }\n",
       "\n",
       "    .dataframe tbody tr th {\n",
       "        vertical-align: top;\n",
       "    }\n",
       "\n",
       "    .dataframe thead th {\n",
       "        text-align: right;\n",
       "    }\n",
       "</style>\n",
       "<table border=\"1\" class=\"dataframe\">\n",
       "  <thead>\n",
       "    <tr style=\"text-align: right;\">\n",
       "      <th></th>\n",
       "      <th>AGE</th>\n",
       "      <th>AGE_AT_SEQ_REPORTED_YEARS</th>\n",
       "      <th>ALBUMIN</th>\n",
       "      <th>ALK_DRIVER</th>\n",
       "      <th>ALK_PROTEIN</th>\n",
       "      <th>ARCHER</th>\n",
       "      <th>ARID1A_DRIVER</th>\n",
       "      <th>ARID1A_PROTEIN</th>\n",
       "      <th>BOR</th>\n",
       "      <th>BRAF_DRIVER</th>\n",
       "      <th>...</th>\n",
       "      <th>STATUS</th>\n",
       "      <th>STK11_DRIVER</th>\n",
       "      <th>STK11_PROTEIN</th>\n",
       "      <th>TMB</th>\n",
       "      <th>TUMOR_PURITY</th>\n",
       "      <th>TX_SETTING</th>\n",
       "      <th>VITAL_STATUS</th>\n",
       "      <th>WEEK_ADDED</th>\n",
       "      <th>WHO_GRADE</th>\n",
       "      <th>cluster</th>\n",
       "    </tr>\n",
       "  </thead>\n",
       "  <tbody>\n",
       "  </tbody>\n",
       "</table>\n",
       "<p>0 rows × 86 columns</p>\n",
       "</div>"
      ],
      "text/plain": [
       "Empty DataFrame\n",
       "Columns: [AGE, AGE_AT_SEQ_REPORTED_YEARS, ALBUMIN, ALK_DRIVER, ALK_PROTEIN, ARCHER, ARID1A_DRIVER, ARID1A_PROTEIN, BOR, BRAF_DRIVER, BRAF_PROTEIN, CANCER_TYPE, CANCER_TYPE_DETAILED, CLINICAL_PDL1_SCORE, CRDB_SURVEY_COMMENTS, CT_SCAN_TYPE, CVR_TMB_COHORT_PERCENTILE, CVR_TMB_SCORE, CVR_TMB_TT_COHORT_PERCENTILE, CYTOLOGY_FIXATION_TYPE, DATE_ADDED, DCR, DEATH_DATE, DISEASE, DNLR, DRUG_LAST_ADMIN, DRUG_START, ECOG, EGFR_DRIVER, EGFR_PROTEIN, ERBB2_DRIVER, ERBB2_PROTEIN, FOLLOW_UP_DATE, GENE_PANEL, HALO_TUMOR_QUALITY, HISTOLOGY, IMPACT_PDL1_SAME, INSTITUTE, IO_DRUG, IO_LINE, JS_PDL1_SCORE, MANUAL_ANNOTATION, METASTATIC_SITE, MET_DRIVER, MET_PROTEIN, MGMT_STATUS, MONO_COMBO, MONTH_ADDED, MSI_COMMENT, MSI_SCORE, MSI_TYPE, MSK_SLIDE_ID, ONCOTREE_CODE, OS_INT, OTHER_PATIENT_ID, PACK_YEARS, PATH_SLIDE_EXISTS, PATIENT_ID, PDL1_TISSUE_SITE, PFS_DATE, PFS_MONTHS, PFS_STATUS, PRIMARY_SITE, PROTO_NUM, RET_DRIVER, RET_PROTEIN, ROS1_DRIVER, ROS1_PROTEIN, SAMPLE_CLASS, SAMPLE_COVERAGE, SAMPLE_ID, SAMPLE_TYPE, SEX, SMOKING_STATUS, SOMATIC_STATUS, SO_COMMENTS, STATUS, STK11_DRIVER, STK11_PROTEIN, TMB, TUMOR_PURITY, TX_SETTING, VITAL_STATUS, WEEK_ADDED, WHO_GRADE, cluster]\n",
       "Index: []\n",
       "\n",
       "[0 rows x 86 columns]"
      ]
     },
     "execution_count": 49,
     "metadata": {},
     "output_type": "execute_result"
    }
   ],
   "source": [
    "GENE=[\"KEAP1\",\"KRAS\"]\n",
    "gene_data=pd.read_csv(os.path.join(OUTPUT_ROOT_PATH,\"Gene\",\"genes_cluster_5.csv\"),names=[\"Gene\"])\n",
    "genes=gene_data[\"Gene\"].unique()\n",
    "data_mutational=pd.read_csv(f\"./{NAME_STUDY}/data_mutational_filtered.txt\",sep=\"\\t\")\n",
    "cluster_values = DF_CLINICAL_DATA[DF_CLINICAL_DATA[\"cluster\"] == 5]\n",
    "patient_cluster=cluster_values[\"SAMPLE_ID\"].unique()\n",
    "sample_genes=[]\n",
    "temp=[]\n",
    "for gene in GENE:\n",
    "    if gene in genes:\n",
    "        data_mutational_gene=data_mutational[data_mutational[\"Hugo_Symbol\"].isin(GENE)]\n",
    "        sample_mutational=data_mutational_gene[\"Tumor_Sample_Barcode\"].isin(patient_cluster)\n",
    "        for sample in sample_mutational:\n",
    "            if sample in patient_cluster:\n",
    "                sample_genes.append(sample)\n",
    "cluster_values=cluster_values[cluster_values[\"SAMPLE_ID\"].isin(sample_genes)]\n",
    "cluster_values"
   ]
  },
  {
   "cell_type": "markdown",
   "metadata": {},
   "source": [
    "## SURVIVAL PAGE"
   ]
  },
  {
   "cell_type": "code",
   "execution_count": 50,
   "metadata": {},
   "outputs": [],
   "source": [
    "#SURVIVAL_PLOT\n",
    "@callback(\n",
    "    Output(component_id='survival_figure', component_property='figure'),\n",
    "    Input(component_id='dropdown-cluster', component_property='value')\n",
    ")\n",
    "def update_overall_survival(cluster):\n",
    "    column_name_status=\"VITAL_STATUS\"\n",
    "    column_name_month =\"OS_INT\"\n",
    "    data=DF_CLINICAL_DATA[DF_CLINICAL_DATA[\"cluster\"]==cluster]\n",
    "    data.dropna(subset=[column_name_month,column_name_status],inplace=True)\n",
    "    data[column_name_status] = data[column_name_status].replace({'Yes': 1, 'No': 0})\n",
    "    #print(data[column_name_month], data[column_name_status])\n",
    "    kmf = KaplanMeierFitter()\n",
    "    kmf.fit(data[column_name_month].values, event_observed=data[column_name_status].values)\n",
    "    # Crea il grafico della curva di sopravvivenza con Plotly\n",
    "    fig = go.Figure()\n",
    "    # Aggiungi la curva di sopravvivenza\n",
    "    fig.add_trace(go.Scatter(\n",
    "        x=kmf.confidence_interval_.index, \n",
    "        y=kmf.confidence_interval_['KM_estimate_upper_0.95'],\n",
    "        mode=\"lines\",\n",
    "        line=dict(shape='hv', width=0),\n",
    "        showlegend=False,\n",
    "    ))\n",
    "\n",
    "    fig.add_trace(go.Scatter(\n",
    "        x=kmf.confidence_interval_.index,\n",
    "        y=kmf.confidence_interval_['KM_estimate_lower_0.95'],\n",
    "        mode=\"lines\",\n",
    "        line=dict(shape='hv', width=0),\n",
    "        fill='tonexty',\n",
    "        fillcolor='rgb(153,204,255)',\n",
    "        showlegend=False\n",
    "    ))\n",
    "    fig.update_layout(\n",
    "        title=\"Survival Curve\",\n",
    "        xaxis_title=\"Duration\",\n",
    "        yaxis_title=\"Survival probability\",\n",
    "        #margin=dict(r=0, t=10, l=0),\n",
    "        font_size=14,\n",
    "        xaxis_title_font_size=18,\n",
    "        yaxis_title_font_size=18\n",
    "    )\n",
    "    fig.add_trace(go.Scatter(\n",
    "        x=kmf.survival_function_.index, y=kmf.survival_function_['KM_estimate'],\n",
    "        line=dict(shape='hv', width=3, color='rgb(0,0,128)'),\n",
    "        mode=\"lines\",\n",
    "        showlegend=False\n",
    "    ))\n",
    "    return fig"
   ]
  },
  {
   "cell_type": "code",
   "execution_count": 51,
   "metadata": {},
   "outputs": [],
   "source": [
    "@callback(\n",
    "     Output(component_id='survival_figure_comparison', component_property='figure'),\n",
    "     Output(component_id='table_test_survival',component_property='figure' ),\n",
    "     Input(component_id='dropdown-cluster-multi_survival', component_property='value')\n",
    ")\n",
    "def update_survival_comparison(list_clusters):\n",
    "    fig = go.Figure()\n",
    "    fig_stats = None\n",
    "    kmf = KaplanMeierFitter()\n",
    "    column_name_status=\"VITAL_STATUS\"\n",
    "    column_name_month =\"OS_INT\"\n",
    "    if \"ALL\" in list_clusters:\n",
    "        DF_ALL = DF_CLINICAL_DATA.copy()\n",
    "        DF_ALL['cluster_plot'] = \"ALL\"\n",
    "        DF = DF_CLINICAL_DATA[DF_CLINICAL_DATA[\"cluster\"].isin(list_clusters)]\n",
    "        DF['cluster_plot'] = DF['cluster']\n",
    "        DF_ALL.dropna(subset=[column_name_month,column_name_status],inplace=True)\n",
    "        DF.dropna(subset=[column_name_month,column_name_status],inplace=True)\n",
    "        DF[column_name_status] = DF[column_name_status].replace({'Yes': 1, 'No': 0})\n",
    "        DF_ALL[column_name_status] = DF_ALL[column_name_status].replace({'Yes': 1, 'No': 0})\n",
    "        DF_FINAL=pd.concat([DF,DF_ALL])\n",
    "        DF_FINAL=DF_FINAL[DF_FINAL[\"cluster_plot\"].isin(list_clusters)]\n",
    "\n",
    "        for cluster in list(DF_FINAL[\"cluster_plot\"].unique()):\n",
    "            cluster_data = DF_FINAL[DF_FINAL['cluster_plot'] == cluster]\n",
    "            #cluster_data.dropna(subset=[column_name_month,column_name_status],inplace=True)\n",
    "            if len(cluster_data)==0:\n",
    "                print (\"ciao\")\n",
    "                list_clusters.remove(cluster)\n",
    "            else:\n",
    "                # Fit e plottaggio della curva di sopravvivenza per il cluster corrente\n",
    "                kmf.fit(cluster_data[column_name_month], event_observed=cluster_data[column_name_status], label=f\"Cluster {cluster}\")\n",
    "                #kmf.plot_survival_function(ci_show=True)\n",
    "                fig.update_layout(\n",
    "                title=\"Survival Curve\",\n",
    "                xaxis_title=\"Duration\",\n",
    "                yaxis_title=\"Survival probability\",\n",
    "                font_size=14,\n",
    "                xaxis_title_font_size=18,\n",
    "                yaxis_title_font_size=18\n",
    "                )\n",
    "                fig.add_trace(go.Scatter(\n",
    "                x=kmf.survival_function_.index, y=kmf.survival_function_[f\"Cluster {cluster}\"],\n",
    "                line=dict(shape='hv', width=3),\n",
    "                mode=\"lines\",\n",
    "                name=f\"Cluster {cluster}\",\n",
    "                showlegend=True\n",
    "                ))\n",
    "                            \n",
    "        DF_FINAL['cluster_plot'] = DF_FINAL['cluster_plot'].astype(str)\n",
    "        # Test log-rank per confrontare le curve tra tutti i cluster\n",
    "        results = pairwise_logrank_test(DF_FINAL[column_name_month], DF_FINAL['cluster_plot'], DF_FINAL[column_name_status])\n",
    "        data_results=results.summary\n",
    "        data_results= data_results.rename(columns={'-log2(p)': 'log2_p'})\n",
    "        data_results = data_results.reset_index()\n",
    "        data_results['comparison'] = data_results['level_0'].astype(str) + \" \" + data_results['level_1'].astype(str)\n",
    "        # Rimuovi le colonne level_0 e level_1, se non necessarie\n",
    "        data_results = data_results.drop(columns=['level_0', 'level_1'])\n",
    "\n",
    "        fig_stats = go.Figure(data=[go.Table(\n",
    "            header=dict(values=list(data_results.columns),fill_color='paleturquoise',align='left'),\n",
    "            cells=dict(values=[round(data_results.test_statistic,4), round(data_results.p,4),round(data_results.log2_p,4),data_results.comparison],fill_color='lavender',align='left'))\n",
    "        ])\n",
    "    else:\n",
    "        data=DF_CLINICAL_DATA[DF_CLINICAL_DATA[\"cluster\"].isin(list_clusters)]\n",
    "        data.dropna(subset=[column_name_month,column_name_status],inplace=True)\n",
    "        data[column_name_status] = data[column_name_status].replace({'Yes': 1, 'No': 0})\n",
    "        for cluster in list(data[\"cluster\"].unique()):\n",
    "            cluster_data = data[data['cluster'] == cluster]\n",
    "            cluster_data.dropna(subset=[column_name_month,column_name_status],inplace=True)\n",
    "            if len(cluster_data)==0:\n",
    "                print (\"ciao\")\n",
    "                list_clusters.remove(cluster)\n",
    "            else:\n",
    "                cluster_data[column_name_status] = cluster_data[column_name_status].replace({'Yes': 1, 'No': 0})\n",
    "                # Fit e plottaggio della curva di sopravvivenza per il cluster corrente\n",
    "                kmf.fit(cluster_data[column_name_month], event_observed=cluster_data[column_name_status], label=f\"Cluster {cluster}\")\n",
    "                #kmf.plot_survival_function(ci_show=True)\n",
    "                # Aggiungi la curva di sopravvivenza\n",
    "                fig.update_layout(\n",
    "                title=\"Survival Curve\",\n",
    "                xaxis_title=\"Duration\",\n",
    "                yaxis_title=\"Survival probability\",\n",
    "                font_size=14,\n",
    "                xaxis_title_font_size=18,\n",
    "                yaxis_title_font_size=18\n",
    "            )\n",
    "            fig.add_trace(go.Scatter(\n",
    "                x=kmf.survival_function_.index, y=kmf.survival_function_[f\"Cluster {cluster}\"],\n",
    "                line=dict(shape='hv', width=3),\n",
    "                mode=\"lines\",\n",
    "                name=f\"Cluster {cluster}\",\n",
    "                showlegend=True\n",
    "            ))\n",
    "\n",
    "        # Test log-rank per confrontare le curve tra tutti i cluster\n",
    "        results = pairwise_logrank_test(data[column_name_month], data['cluster'], data[column_name_status])\n",
    "        # Mostra i risultati del test log-rank per tutti i confronti tra cluster\n",
    "        data_results=results.summary\n",
    "        data_results= data_results.rename(columns={'-log2(p)': 'log2_p'})\n",
    "        data_results = data_results.reset_index()\n",
    "        data_results['comparison'] = data_results['level_0'].astype(str) + \" \" + data_results['level_1'].astype(str)\n",
    "        # Rimuovi le colonne level_0 e level_1, se non necessarie\n",
    "        data_results = data_results.drop(columns=['level_0', 'level_1'])\n",
    "\n",
    "        fig_stats = go.Figure(data=[go.Table(\n",
    "            header=dict(values=list(data_results.columns),fill_color='paleturquoise',align='left'),\n",
    "            cells=dict(values=[round(data_results.test_statistic,4), round(data_results.p,4),round(data_results.log2_p,4),data_results.comparison],fill_color='lavender',align='left'))\n",
    "        ])\n",
    "\n",
    "    return fig, fig_stats\n",
    "            \n",
    "                "
   ]
  },
  {
   "cell_type": "markdown",
   "metadata": {},
   "source": [
    "## START"
   ]
  },
  {
   "cell_type": "code",
   "execution_count": 52,
   "metadata": {},
   "outputs": [
    {
     "name": "stdout",
     "output_type": "stream",
     "text": [
      "Deploy on: http://127.0.0.1:8050/\n"
     ]
    },
    {
     "data": {
      "text/html": [
       "\n",
       "        <iframe\n",
       "            width=\"100%\"\n",
       "            height=\"650\"\n",
       "            src=\"http://0.0.0.0:8050/\"\n",
       "            frameborder=\"0\"\n",
       "            allowfullscreen\n",
       "            \n",
       "        ></iframe>\n",
       "        "
      ],
      "text/plain": [
       "<IPython.lib.display.IFrame at 0x7ff80a8f9f90>"
      ]
     },
     "metadata": {},
     "output_type": "display_data"
    },
    {
     "name": "stderr",
     "output_type": "stream",
     "text": [
      "[2024-10-06 11:33:51,170] ERROR in app: Exception on /_dash-update-component [POST]\n",
      "Traceback (most recent call last):\n",
      "  File \"/home/fede/anaconda3/envs/Tool_Network/lib/python3.11/site-packages/flask/app.py\", line 1473, in wsgi_app\n",
      "    response = self.full_dispatch_request()\n",
      "               ^^^^^^^^^^^^^^^^^^^^^^^^^^^^\n",
      "  File \"/home/fede/anaconda3/envs/Tool_Network/lib/python3.11/site-packages/flask/app.py\", line 882, in full_dispatch_request\n",
      "    rv = self.handle_user_exception(e)\n",
      "         ^^^^^^^^^^^^^^^^^^^^^^^^^^^^^\n",
      "  File \"/home/fede/anaconda3/envs/Tool_Network/lib/python3.11/site-packages/flask/app.py\", line 880, in full_dispatch_request\n",
      "    rv = self.dispatch_request()\n",
      "         ^^^^^^^^^^^^^^^^^^^^^^^\n",
      "  File \"/home/fede/anaconda3/envs/Tool_Network/lib/python3.11/site-packages/flask/app.py\", line 865, in dispatch_request\n",
      "    return self.ensure_sync(self.view_functions[rule.endpoint])(**view_args)  # type: ignore[no-any-return]\n",
      "           ^^^^^^^^^^^^^^^^^^^^^^^^^^^^^^^^^^^^^^^^^^^^^^^^^^^^^^^^^^^^^^^^^\n",
      "  File \"/home/fede/anaconda3/envs/Tool_Network/lib/python3.11/site-packages/dash/dash.py\", line 1376, in dispatch\n",
      "    ctx.run(\n",
      "  File \"/home/fede/anaconda3/envs/Tool_Network/lib/python3.11/site-packages/dash/_callback.py\", line 514, in add_context\n",
      "    raise err\n",
      "  File \"/home/fede/anaconda3/envs/Tool_Network/lib/python3.11/site-packages/dash/_callback.py\", line 503, in add_context\n",
      "    output_value = _invoke_callback(func, *func_args, **func_kwargs)\n",
      "                   ^^^^^^^^^^^^^^^^^^^^^^^^^^^^^^^^^^^^^^^^^^^^^^^^^\n",
      "  File \"/home/fede/anaconda3/envs/Tool_Network/lib/python3.11/site-packages/dash/_callback.py\", line 43, in _invoke_callback\n",
      "    return func(*args, **kwargs)  # %% callback invoked %%\n",
      "           ^^^^^^^^^^^^^^^^^^^^^\n",
      "  File \"/tmp/ipykernel_636/1774328365.py\", line 62, in select_gene_data\n",
      "    paz_mut_all= set.intersection(*patient_for_gene)\n",
      "                 ^^^^^^^^^^^^^^^^^^^^^^^^^^^^^^^^^^^\n",
      "TypeError: unbound method set.intersection() needs an argument\n"
     ]
    }
   ],
   "source": [
    "#START\n",
    "if __name__ == '__main__':\n",
    "    try:\n",
    "        #GLOBAL\n",
    "        print(\"Deploy on: http://127.0.0.1:8050/\")\n",
    "        app.run(debug=False, host='0.0.0.0', port=8050)\n",
    "    except:\n",
    "        #LOCAL\n",
    "        print(\"Deploy on: http://127.0.0.1:805/\")       \n",
    "        app.run(debug=False, port=8050)"
   ]
  }
 ],
 "metadata": {
  "kernelspec": {
   "display_name": "Tool_Network",
   "language": "python",
   "name": "python3"
  },
  "language_info": {
   "codemirror_mode": {
    "name": "ipython",
    "version": 3
   },
   "file_extension": ".py",
   "mimetype": "text/x-python",
   "name": "python",
   "nbconvert_exporter": "python",
   "pygments_lexer": "ipython3",
   "version": "3.11.10"
  }
 },
 "nbformat": 4,
 "nbformat_minor": 2
}
