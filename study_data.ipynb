{
 "cells": [
  {
   "cell_type": "code",
   "execution_count": 11,
   "metadata": {},
   "outputs": [
    {
     "name": "stdout",
     "output_type": "stream",
     "text": [
      "1882\n"
     ]
    },
    {
     "data": {
      "text/plain": [
       "MOLECULAR_SUBTYPE\n",
       "CN-H/TP53abn    613\n",
       "CN-L/NSMP       494\n",
       "MSI-H           369\n",
       "POLE             92\n",
       "Name: count, dtype: int64"
      ]
     },
     "execution_count": 11,
     "metadata": {},
     "output_type": "execute_result"
    }
   ],
   "source": [
    "import pandas as pd\n",
    "data_original=pd.read_csv(\"./endometrium/data_clinical_sample.txt\",sep=\"\\t\",skiprows=4)\n",
    "print(len(data_original[\"SAMPLE_ID\"].unique()))\n",
    "data_clinical_cluster=pd.read_csv(\"./endometrium/output/cluster_clinical_data.csv\",sep=\"\\t\")\n",
    "data_clinical_cluster[\"MOLECULAR_SUBTYPE\"].value_counts()\n"
   ]
  },
  {
   "cell_type": "code",
   "execution_count": 5,
   "metadata": {},
   "outputs": [
    {
     "data": {
      "text/plain": [
       "HISTOLOGY\n",
       "Endometrioid G1/2       697\n",
       "Serous                  229\n",
       "Carcinosarcoma          184\n",
       "Endometrioid G3         171\n",
       "Mixed/High-grade NOS    143\n",
       "Unclassified             71\n",
       "Clear cell               44\n",
       "Undifferentiated         29\n",
       "Name: count, dtype: int64"
      ]
     },
     "execution_count": 5,
     "metadata": {},
     "output_type": "execute_result"
    }
   ],
   "source": [
    "data_clinical_cluster[\"HISTOLOGY\"].value_counts()"
   ]
  },
  {
   "cell_type": "code",
   "execution_count": 6,
   "metadata": {},
   "outputs": [
    {
     "data": {
      "text/plain": [
       "1568"
      ]
     },
     "execution_count": 6,
     "metadata": {},
     "output_type": "execute_result"
    }
   ],
   "source": [
    "len(data_clinical_cluster[\"SAMPLE_ID\"].unique())"
   ]
  },
  {
   "cell_type": "code",
   "execution_count": null,
   "metadata": {},
   "outputs": [],
   "source": [
    "for value in data_clinical_cluster[\"MOLECULAR_SUBTYPE\"].unique():\n",
    "    df= data_clinical_cluster[data_clinical_cluster[\"MOLECULAR_SUBTYPE\"]==value]\n",
    "    print(value,df[\"cluster\"].value_counts() )"
   ]
  },
  {
   "cell_type": "code",
   "execution_count": 8,
   "metadata": {},
   "outputs": [
    {
     "data": {
      "text/plain": [
       "6139"
      ]
     },
     "execution_count": 8,
     "metadata": {},
     "output_type": "execute_result"
    }
   ],
   "source": [
    "data_numerosity=pd.read_csv(\"./endometrium/output/numerosity_cluster.csv\",sep=\"\\t\")\n",
    "sum(data_numerosity[\"Variant\"])"
   ]
  }
 ],
 "metadata": {
  "kernelspec": {
   "display_name": "Python 3",
   "language": "python",
   "name": "python3"
  },
  "language_info": {
   "codemirror_mode": {
    "name": "ipython",
    "version": 3
   },
   "file_extension": ".py",
   "mimetype": "text/x-python",
   "name": "python",
   "nbconvert_exporter": "python",
   "pygments_lexer": "ipython3",
   "version": "3.10.6"
  },
  "orig_nbformat": 4
 },
 "nbformat": 4,
 "nbformat_minor": 2
}
