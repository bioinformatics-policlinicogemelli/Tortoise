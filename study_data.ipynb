{
 "cells": [
  {
   "cell_type": "code",
   "execution_count": 2,
   "metadata": {},
   "outputs": [
    {
     "name": "stdout",
     "output_type": "stream",
     "text": [
      "1882\n",
      "MOLECULAR_SUBTYPE\n",
      "CN-H/TP53abn    610\n",
      "CN-L/NSMP       482\n",
      "MSI-H           367\n",
      "POLE             92\n",
      "Name: count, dtype: int64\n"
     ]
    }
   ],
   "source": [
    "import pandas as pd\n",
    "name_study=\"endometrium\"\n",
    "data_original=pd.read_csv(f\"./{name_study}/data_clinical_sample.txt\",sep=\"\\t\",skiprows=4)\n",
    "print(len(data_original[\"SAMPLE_ID\"].unique()))\n",
    "data_clinical_cluster=pd.read_csv(f\"./{name_study}/output/cluster_clinical_data.csv\",sep=\"\\t\")\n",
    "if name_study==\"endometrium\":       \n",
    "    print(data_clinical_cluster[\"MOLECULAR_SUBTYPE\"].value_counts())\n"
   ]
  },
  {
   "cell_type": "code",
   "execution_count": 9,
   "metadata": {},
   "outputs": [
    {
     "data": {
      "text/plain": [
       "HISTOLOGY\n",
       "Adenocarcinoma                            176\n",
       "Squamous                                   35\n",
       "NOS                                        17\n",
       "Large cell neuroendocrine                   5\n",
       "Giant Cell                                  1\n",
       "Pleomorphic                                 1\n",
       "Large Cell                                  1\n",
       "Adenosquamous                               1\n",
       "Adenocarcinoma; Adenocarcinoma In Situ      1\n",
       "Name: count, dtype: int64"
      ]
     },
     "execution_count": 9,
     "metadata": {},
     "output_type": "execute_result"
    }
   ],
   "source": [
    "data_clinical_cluster[\"HISTOLOGY\"].value_counts()"
   ]
  },
  {
   "cell_type": "code",
   "execution_count": 10,
   "metadata": {},
   "outputs": [
    {
     "data": {
      "text/plain": [
       "239"
      ]
     },
     "execution_count": 10,
     "metadata": {},
     "output_type": "execute_result"
    }
   ],
   "source": [
    "len(data_clinical_cluster[\"SAMPLE_ID\"].unique())"
   ]
  },
  {
   "cell_type": "code",
   "execution_count": 11,
   "metadata": {},
   "outputs": [],
   "source": [
    "numerosity=pd.read_csv(f\"./{name_study}/output/numerosity_cluster.csv\",sep=\"\\t\")"
   ]
  },
  {
   "cell_type": "code",
   "execution_count": 12,
   "metadata": {},
   "outputs": [],
   "source": [
    "#for value in data_clinical_cluster[\"MOLECULAR_SUBTYPE\"].unique():\n",
    "if name_study==\"endometrium\":\n",
    "    df= data_clinical_cluster[data_clinical_cluster[\"MOLECULAR_SUBTYPE\"]==\"POLE\"]\n",
    "    df[\"cluster\"].value_counts()\n"
   ]
  },
  {
   "cell_type": "code",
   "execution_count": 13,
   "metadata": {},
   "outputs": [
    {
     "data": {
      "text/plain": [
       "'counts = data_clinical_cluster.groupby([\\'cluster\\', \\'MOLECULAR_SUBTYPE\\']).size().reset_index(name=\\'Count\\')\\n\\n# Contiamo quanti campioni ci sono in totale per ciascun cluster\\ntotal_counts = data_clinical_cluster.groupby(\\'cluster\\').size().reset_index(name=\\'Total\\')\\n\\n# Uniamo i conteggi di ciascuna classe molecolare con il totale per ciascun cluster\\ncounts = counts.merge(total_counts, on=\\'cluster\\')\\n\\n# Calcoliamo la percentuale di ciascuna classe molecolare all\\'interno di ogni cluster\\ncounts[\\'Percentage\\'] = (counts[\\'Count\\'] / counts[\\'Total\\']) * 100\\n\\n# Visualizziamo il risultato\\nprint(counts.to_csv(\"./endometrium/output/provs_classe.csv\",sep=\"\\t\",index=False))'"
      ]
     },
     "execution_count": 13,
     "metadata": {},
     "output_type": "execute_result"
    }
   ],
   "source": [
    "'''counts = data_clinical_cluster.groupby(['cluster', 'MOLECULAR_SUBTYPE']).size().reset_index(name='Count')\n",
    "\n",
    "# Contiamo quanti campioni ci sono in totale per ciascun cluster\n",
    "total_counts = data_clinical_cluster.groupby('cluster').size().reset_index(name='Total')\n",
    "\n",
    "# Uniamo i conteggi di ciascuna classe molecolare con il totale per ciascun cluster\n",
    "counts = counts.merge(total_counts, on='cluster')\n",
    "\n",
    "# Calcoliamo la percentuale di ciascuna classe molecolare all'interno di ogni cluster\n",
    "counts['Percentage'] = (counts['Count'] / counts['Total']) * 100\n",
    "\n",
    "# Visualizziamo il risultato\n",
    "print(counts.to_csv(\"./endometrium/output/provs_classe.csv\",sep=\"\\t\",index=False))'''"
   ]
  },
  {
   "cell_type": "code",
   "execution_count": 14,
   "metadata": {},
   "outputs": [
    {
     "data": {
      "text/plain": [
       "2735"
      ]
     },
     "execution_count": 14,
     "metadata": {},
     "output_type": "execute_result"
    }
   ],
   "source": [
    "data_numerosity=pd.read_csv(f\"./{name_study}/output/numerosity_cluster.csv\",sep=\"\\t\")\n",
    "sum(data_numerosity[\"Variant\"])"
   ]
  },
  {
   "cell_type": "code",
   "execution_count": 17,
   "metadata": {},
   "outputs": [
    {
     "data": {
      "text/plain": [
       "30"
      ]
     },
     "execution_count": 17,
     "metadata": {},
     "output_type": "execute_result"
    }
   ],
   "source": [
    "len(data_numerosity[data_numerosity[\"Patient\"]!=1][\"Cluster\"])"
   ]
  }
 ],
 "metadata": {
  "kernelspec": {
   "display_name": "base",
   "language": "python",
   "name": "python3"
  },
  "language_info": {
   "codemirror_mode": {
    "name": "ipython",
    "version": 3
   },
   "file_extension": ".py",
   "mimetype": "text/x-python",
   "name": "python",
   "nbconvert_exporter": "python",
   "pygments_lexer": "ipython3",
   "version": "3.11.7"
  },
  "orig_nbformat": 4
 },
 "nbformat": 4,
 "nbformat_minor": 2
}
