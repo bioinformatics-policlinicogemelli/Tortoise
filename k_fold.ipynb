{
 "cells": [
  {
   "cell_type": "code",
   "execution_count": 1,
   "metadata": {},
   "outputs": [],
   "source": [
    "import json\n",
    "#import rpy2.robjects as robjects\n",
    "import  graph_construction as function\n",
    "#import enrichment_image as enrichment\n",
    "import os\n",
    "import rpy2\n",
    "import logging\n",
    "import rpy2.robjects as robjects\n",
    "from rpy2.rinterface_lib.callbacks import logger as rpy2_logger\n",
    "rpy2_logger.setLevel(logging.ERROR)\n",
    "\n",
    "#CARICAMENTO FILE CONFIGURAZIONE\n",
    "with open(\"config.json\") as f:\n",
    "    data=json.load(f)\n",
    "\n",
    "#Definizione pathway\n",
    "path_data_mutational=data[\"Paths\"][\"data_mutational\"]\n",
    "path_clinical_sample=data[\"Paths\"][\"data_clinical_sample\"]\n",
    "path_clinical_patient=data[\"Paths\"][\"data_clinical_patient\"]\n",
    "column_mutation_name=data[\"Mutation\"][\"column_mutation_name\"]\n",
    "gene_interest=data[\"Mutation\"][\"gene_of_interest\"]\n",
    "path_save=data[\"Paths\"][\"output_folder\"]\n",
    "column_gene=data[\"Mutation\"][\"column_gene_name\"]\n",
    "column_hgvsp=data[\"Mutation\"][\"column_hgvsp_short\"]\n",
    "#column_hgvsc=data[\"Mutation\"][\"column_hgvsc\"]\n",
    "column_variant_classification=data[\"Mutation\"][\"column_variant_classification\"]\n",
    "column_chromosome=data[\"Mutation\"][\"column_chromosome\"]\n",
    "column_start=data[\"Mutation\"][\"column_start\"]\n",
    "column_end=data[\"Mutation\"][\"column_end\"]\n",
    "sample_name=data[\"Clinical_data\"][\"column_sample_name\"]\n",
    "patient_name=data[\"Clinical_data\"][\"column_patient_name\"]\n",
    "vaf=data[\"Mutation\"][\"vaf\"]\n",
    "vaf_score=data[\"Mutation\"][\"vaf_score\"]\n",
    "column_vaf=data[\"Mutation\"][\"vaf_column\"]\n",
    "adjusted=data[\"Enrichment\"][\"adjusted\"]\n",
    "threshold=data[\"Enrichment\"][\"threshold\"]\n",
    "go=data[\"Enrichment\"][\"go\"]\n",
    "kegg=data[\"Enrichment\"][\"kegg\"]\n",
    "wiki=data[\"Enrichment\"][\"wiki\"]\n",
    "reactome=data[\"Enrichment\"][\"reactome\"]\n",
    "\n",
    " #creazione cartella di output\n",
    "#if not os.path.exists(path_save):\n",
    "    #os.makedirs(path_save)\n"
   ]
  },
  {
   "cell_type": "code",
   "execution_count": 4,
   "metadata": {},
   "outputs": [],
   "source": [
    "k_fold_method=True\n",
    "k_fold=4\n",
    "k=3"
   ]
  },
  {
   "cell_type": "code",
   "execution_count": 5,
   "metadata": {},
   "outputs": [],
   "source": [
    "if not os.path.exists(f\"{path_save}_cross_validation_{k}\"):\n",
    "    os.makedirs(f\"{path_save}_cross_validation_{k}\")\n",
    "path_save=f\"{path_save}_cross_validation_{k}\""
   ]
  },
  {
   "cell_type": "code",
   "execution_count": null,
   "metadata": {},
   "outputs": [],
   "source": [
    "#caricamento dei dataframes\n",
    "data_mutational,data_clinical_sample,data_clinical_patient=function.read_file(path_data_mutational,path_clinical_sample,path_clinical_patient)\n",
    "#creazione delle mappe pazienti e varianti + creazione del grafo\n",
    "if column_mutation_name==\"\":\n",
    "    #print(\"ciao\")\n",
    "    data_mutational=function.adding_category_mutation(data_mutational,column_gene,column_hgvsp,column_variant_classification,column_chromosome,column_start,column_end)\n",
    "\n",
    "\n",
    "if vaf and column_vaf!=\"\":\n",
    "    data_mutational=data_mutational[data_mutational[column_vaf]>=vaf_score]\n",
    "elif vaf and column_vaf==\"\":\n",
    "    data_mutational['t_AF']=data_mutational.apply(function.calculated_vaf, axis=1)\n",
    "    print(len(data_mutational))\n",
    "    data_mutational=data_mutational[data_mutational['t_AF']>=vaf_score]\n",
    "    print(len(data_mutational))\n",
    "\n",
    "map_patients,map_variants,map_consequence=function.create_maps(data_mutational,data,column_mutation_name)\n",
    "\n",
    "graph=function.graph_creation(map_patients,map_variants)"
   ]
  },
  {
   "cell_type": "code",
   "execution_count": null,
   "metadata": {},
   "outputs": [],
   "source": [
    "if k_fold_method:\n",
    "    all_samples=data_mutational[\"Tumor_Sample_Barcode\"].unique()\n",
    "    all_samples_filtred=[]\n",
    "    block_division=len(all_samples)//k_fold\n",
    "    for i,e in enumerate(all_samples):\n",
    "        if i >=(k*block_division) and i <(k*block_division)+block_division:\n",
    "            continue\n",
    "        all_samples_filtred.append(e)\n",
    "    data_mutational=data_mutational[data_mutational[\"Tumor_Sample_Barcode\"].isin(all_samples_filtred)]\n",
    "    "
   ]
  }
 ],
 "metadata": {
  "kernelspec": {
   "display_name": "Tool_Network",
   "language": "python",
   "name": "python3"
  },
  "language_info": {
   "codemirror_mode": {
    "name": "ipython",
    "version": 3
   },
   "file_extension": ".py",
   "mimetype": "text/x-python",
   "name": "python",
   "nbconvert_exporter": "python",
   "pygments_lexer": "ipython3",
   "version": "3.11.7"
  }
 },
 "nbformat": 4,
 "nbformat_minor": 2
}
