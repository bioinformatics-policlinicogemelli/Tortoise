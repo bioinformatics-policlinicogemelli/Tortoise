{
 "cells": [
  {
   "cell_type": "code",
   "execution_count": null,
   "metadata": {},
   "outputs": [],
   "source": [
    "def main(): \n",
    "    import json\n",
    "    from rpy2 import robjects\n",
    "    import  graph_construction as function\n",
    "    import pandas as pd\n",
    "    import os\n",
    "\n",
    "    #CARICAMENTO FILE CONFIGURAZIONE\n",
    "    with open(\"config.json\") as f:\n",
    "        data=json.load(f)\n",
    "\n",
    "    #Definizione pathway\n",
    "    path_data_mutational=data[\"Paths\"][\"data_mutational\"]\n",
    "    path_clinical_sample=data[\"Paths\"][\"data_clinical_sample\"]\n",
    "    path_clinical_patient=data[\"Paths\"][\"data_clinical_patient\"]\n",
    "    column_mutation_name=data[\"Mutation\"][\"column_mutation_name\"]\n",
    "    gene_interest=data[\"Mutation\"][\"gene_of_interest\"]\n",
    "    path_save=data[\"Paths\"][\"output_folder\"]\n",
    "    column_gene=data[\"Mutation\"][\"column_gene_name\"]\n",
    "    column_hgvsp=data[\"Mutation\"][\"column_hgvsp_short\"]\n",
    "    column_hgvsc=data[\"Mutation\"][\"column_hgvsc\"]\n",
    "    column_variant_classification=data[\"Mutation\"][\"column_variant_classification\"]\n",
    "    sample_name=data[\"Clinical_data\"][\"column_sample_name\"]\n",
    "    patient_name=data[\"Clinical_data\"][\"column_patient_name\"]\n",
    "    vaf=data[\"Mutation\"][\"vaf\"]\n",
    "    vaf_score=data[\"Mutation\"][\"vaf_score\"]\n",
    "    column_vaf=data[\"Mutation\"][\"vaf_column\"]\n",
    "    adjusted=data[\"Enrichment\"][\"adjusted\"]\n",
    "    threshold=data[\"Enrichment\"][\"threshold\"]\n",
    "\n",
    "    #caricamento dei dataframes\n",
    "    data_mutational,data_clinical_sample,data_clinical_patient=function.read_file(path_data_mutational,path_clinical_sample,path_clinical_patient)\n",
    "    \n",
    "    #creazione delle mappe pazienti e varianti + creazione del grafo\n",
    "    if column_mutation_name==\"\":\n",
    "        data_mutational=function.adding_category_mutation(data_mutational,column_gene,column_hgvsp,column_variant_classification,column_hgvsc)\n",
    "\n",
    "    #filtraggio per la vaf se sempresente\n",
    "    if vaf and column_vaf!=\"\":\n",
    "        data_mutational=data_mutational[column_vaf]>=vaf_score\n",
    "    elif vaf and column_vaf==\"\":\n",
    "        data_mutational['t_AF']=data_mutational.apply(function.calculated_vaf, axis=1)\n",
    "\n",
    "\n",
    "    map_patients,map_variants,map_consequence=function.create_maps(data_mutational,data,column_mutation_name)\n",
    "    graph=function.graph_creation(map_patients,map_variants)\n",
    "\n",
    "    #plot tipi di mutazione geni di interesse\n",
    "    if len(gene_interest)!=0:\n",
    "        function.plot_mutation_gene(map_consequence,gene_interest,path_save)\n",
    "\n",
    "    #clusterizzazione\n",
    "    seed=function.selected_seed(graph)\n",
    "    dendro=function.leiden_clustering(graph,seed)\n",
    "\n",
    "    #gestione parte grafica del grafo (aggiunta colori + file per cytoscape)\n",
    "    graph=function.adding_graph_color(graph,dendro)\n",
    "    if not os.path.exists(path_save):\n",
    "        os.makedirs(path_save)\n",
    "    function.write_graph_to_cytoscape(graph,path_save)\n",
    "\n",
    "\n",
    "    #creazione della mappa cluster e attribuzione del cluster i pazienti e alle varianti\n",
    "    map_cluster=function.map_cluster_creation(graph,dendro)\n",
    "    map_patients,map_variants=function.adding_cluster_to_map(map_cluster,map_patients,map_variants)\n",
    "    graph=function.cluster_noded_attributes(graph,map_patients,map_variants)\n",
    "\n",
    "    #aggiunta delle informazioni cliniche alla mappa dei pazienti\n",
    "    if len(data_clinical_sample)!=0:\n",
    "        map_patients=function.enriched_sample_data(data_clinical_sample,map_cluster,map_patients,sample_name,patient_name)\n",
    "    if len(data_clinical_patient)!=0:\n",
    "        map_patients=function.enriched_patient_data(data_clinical_patient,map_patients,patient_name)\n",
    "\n",
    "    #creazione file in cui riassumere le informazioni nei diversi cluster\n",
    "    function.summary_info(path_save,map_cluster,map_patients,patient_name)\n",
    "    function.numerosity_info(path_save,map_cluster)\n",
    "\n",
    "    #creazione di una mappa con il numero di mutazioni per ogni gene + creazione di due mappe con i valori assoluti e percentuali di distribuzione delle mutazioni, per ciascun gene,\n",
    "    #nei diversi cluster\n",
    "    gene_total_count=function.count_gene(graph)\n",
    "    map_cluster_gene_abs,map_cluster_gene_percent=function.count_gene_abs_percent(map_cluster,gene_total_count,path_save)\n",
    "    #salvataggio delle percentuali di distribuzione delle mutazioni dei diversi geni nei cluster\n",
    "    function.genes_single_cluster(map_cluster,path_save)\n",
    "\n",
    "    function.couple_centroid_element(dendro,map_cluster,path_save)\n",
    "    function.centroids_cluster(dendro,path_save)\n",
    "\n",
    "    robjects.r('chooseCRANmirror(ind=46)')\n",
    "    robjects.r.source(\"./enrichment.r\")\n",
    "\n",
    "    \n",
    "    import enrichment_image as enrichment\n",
    "    path_output=f'{data[\"Paths\"][\"output_folder\"]}/Arricchimento_all_genes'\n",
    "\n",
    "    for folder in os.listdir(path_output):\n",
    "        full_path=os.path.join(path_output,folder)\n",
    "        if os.path.isdir(full_path):\n",
    "            for f in os.listdir(full_path):\n",
    "            # print(full_path)\n",
    "                if os.path.isfile(os.path.join(full_path,f)):\n",
    "                    type_go=f.split(\"_\")[0]\n",
    "                    cluster=f.split(\"_\")[1].split(\".\")[0]\n",
    "                    if f.startswith(\"kegg\"):\n",
    "                        enrichment.plot_term_kegg(full_path,f\"{full_path}/{f}\",type_go,cluster,adjusted,threshold)\n",
    "                    elif f.startswith(\"phen\"):\n",
    "                        enrichment.plot_term_pheno(full_path,f\"{full_path}/{f}\",type_go,cluster,adjusted,threshold)\n",
    "                    \n",
    "                    elif f.startswith(\"wiki\"):\n",
    "                        enrichment.plot_term_wiki(full_path,f\"{full_path}/{f}\",type_go,cluster,adjusted,threshold)\n",
    "                    \n",
    "                    else:\n",
    "                        print(f\"{full_path}/{f}\")\n",
    "                        enrichment.plot_term_go(full_path,f\"{full_path}/{f}\",type_go,cluster,adjusted,threshold)\n",
    "\n",
    "    '''\n",
    "    #**************SEZIONE GRAFICA CONNESSIONI***************\n",
    "    #defizione del numero di connessioni per ogni variante all'interno del cluster \n",
    "    variant_patient_connection_count=function.variant_conncection_patient(dendro)\n",
    "    #defizione del numero di connessioni per ogni paziente all'interno del cluster\n",
    "    patient_variant_connection_count=function.patient_connection_variant(dendro)\n",
    "    graph=function.add_size_node(graph,variant_patient_connection_count)\n",
    "    # CREAZIONE DI UN FILE \"CONNECTION_VARIANT\" IN CUI SONO INDICATE IL NUMERO DI VARIANTI COMUNI TRA I VARI PAZIENTI DI UN CLUSTER\n",
    "    function.file_connection_variant(map_cluster,map_patients,path_save)\n",
    "    # CREAZIONE DI UN FILE \"CONCCECTION_PATIENT\" IN CUI SONO INDICATI IL NUMERO DI PAZIENTI COMUNI TRA LE VARIE VARIANTI DI UN CLUSTER\n",
    "    function.file_connection_patient(map_cluster,map_variants,path_save)\n",
    "    #plott delle connessioni lato varianti:\n",
    "    data_connection=pd.read_csv(\"./tcga_filtred/output/connection_patient.csv\",sep=\"\\t\")\n",
    "    #for i in range(len(map_cluster.keys())):\n",
    "      # function.plot_distance_comutated_cluster_variants(dendro,i,data_connection,path_save)'''\n",
    "\n",
    "\n",
    "if __name__==\"__main__\":\n",
    "    main()"
   ]
  },
  {
   "cell_type": "code",
   "execution_count": null,
   "metadata": {},
   "outputs": [],
   "source": []
  },
  {
   "cell_type": "markdown",
   "metadata": {},
   "source": [
    "CARICAMENTO DATI"
   ]
  },
  {
   "cell_type": "code",
   "execution_count": 3,
   "metadata": {},
   "outputs": [],
   "source": [
    "import json\n",
    "#import rpy2.robjects as robjects\n",
    "import  graph_construction as function\n",
    "#import enrichment_image as enrichment\n",
    "\n",
    "import os\n",
    "\n",
    "#CARICAMENTO FILE CONFIGURAZIONE\n",
    "with open(\"config.json\") as f:\n",
    "    data=json.load(f)\n",
    "\n",
    "#Definizione pathway\n",
    "path_data_mutational=data[\"Paths\"][\"data_mutational\"]\n",
    "path_clinical_sample=data[\"Paths\"][\"data_clinical_sample\"]\n",
    "path_clinical_patient=data[\"Paths\"][\"data_clinical_patient\"]\n",
    "column_mutation_name=data[\"Mutation\"][\"column_mutation_name\"]\n",
    "gene_interest=data[\"Mutation\"][\"gene_of_interest\"]\n",
    "path_save=data[\"Paths\"][\"output_folder\"]\n",
    "column_gene=data[\"Mutation\"][\"column_gene_name\"]\n",
    "column_hgvsp=data[\"Mutation\"][\"column_hgvsp_short\"]\n",
    "column_hgvsc=data[\"Mutation\"][\"column_hgvsc\"]\n",
    "column_variant_classification=data[\"Mutation\"][\"column_variant_classification\"]\n",
    "column_chromosome=data[\"Mutation\"][\"column_chromosome\"]\n",
    "column_start=data[\"Mutation\"][\"column_start\"]\n",
    "column_end=data[\"Mutation\"][\"column_end\"]\n",
    "sample_name=data[\"Clinical_data\"][\"column_sample_name\"]\n",
    "patient_name=data[\"Clinical_data\"][\"column_patient_name\"]\n",
    "vaf=data[\"Mutation\"][\"vaf\"]\n",
    "vaf_score=data[\"Mutation\"][\"vaf_score\"]\n",
    "column_vaf=data[\"Mutation\"][\"vaf_column\"]\n",
    "adjusted=data[\"Enrichment\"][\"adjusted\"]\n",
    "threshold=data[\"Enrichment\"][\"threshold\"]"
   ]
  },
  {
   "cell_type": "code",
   "execution_count": 4,
   "metadata": {},
   "outputs": [
    {
     "data": {
      "text/plain": [
       "'Chromosome'"
      ]
     },
     "execution_count": 4,
     "metadata": {},
     "output_type": "execute_result"
    }
   ],
   "source": [
    "column_chromosome"
   ]
  },
  {
   "cell_type": "code",
   "execution_count": 2,
   "metadata": {},
   "outputs": [],
   "source": [
    "#caricamento dei dataframes\n",
    "data_mutational,data_clinical_sample,data_clinical_patient=function.read_file(path_data_mutational,path_clinical_sample,path_clinical_patient)"
   ]
  },
  {
   "cell_type": "markdown",
   "metadata": {},
   "source": [
    "DIZIONARIO PAZIENTI-DIZIONARIO VARIANTI-COSTRUZIONE GRAFO"
   ]
  },
  {
   "cell_type": "code",
   "execution_count": 3,
   "metadata": {},
   "outputs": [
    {
     "name": "stdout",
     "output_type": "stream",
     "text": [
      "HGVSp_Short Variant_Classification None Chromosome Start_Position End_Position\n",
      "Sostituzione_Amminoacidica\n"
     ]
    }
   ],
   "source": [
    "#creazione delle mappe pazienti e varianti + creazione del grafo\n",
    "if column_mutation_name==\"\":\n",
    "    #print(\"ciao\")\n",
    "    data_mutational=function.adding_category_mutation(data_mutational,column_gene,column_hgvsp,column_variant_classification,column_hgvsc,column_chromosome,column_start,column_end)\n",
    "\n",
    "map_patients,map_variants,map_consequence=function.create_maps(data_mutational,data,column_mutation_name)\n",
    "\n",
    "graph=function.graph_creation(map_patients,map_variants)\n"
   ]
  },
  {
   "cell_type": "code",
   "execution_count": 4,
   "metadata": {},
   "outputs": [
    {
     "name": "stdout",
     "output_type": "stream",
     "text": [
      "2953\n",
      "2929\n"
     ]
    }
   ],
   "source": [
    "#filtraggio della VAF\n",
    "if vaf and column_vaf!=\"\":\n",
    "    data_mutational=data_mutational[data_mutational[column_vaf]>=vaf_score]\n",
    "elif vaf and column_vaf==\"\":\n",
    "    data_mutational['t_AF']=data_mutational.apply(function.calculated_vaf, axis=1)\n",
    "    print(len(data_mutational))\n",
    "    data_mutational=data_mutational[data_mutational['t_AF']>=vaf_score]\n",
    "    print(len(data_mutational))"
   ]
  },
  {
   "cell_type": "code",
   "execution_count": 5,
   "metadata": {},
   "outputs": [],
   "source": [
    "#plot tipi di mutazione geni di interesse\n",
    "if len(gene_interest)!=0:\n",
    "    function.plot_mutation_gene(map_consequence,gene_interest)"
   ]
  },
  {
   "cell_type": "markdown",
   "metadata": {},
   "source": [
    "CLUSTERIZZAZIONE"
   ]
  },
  {
   "cell_type": "code",
   "execution_count": 6,
   "metadata": {},
   "outputs": [],
   "source": [
    "#clusterizzazione\n",
    "seed=function.selected_seed(graph)"
   ]
  },
  {
   "cell_type": "code",
   "execution_count": 7,
   "metadata": {},
   "outputs": [
    {
     "name": "stdout",
     "output_type": "stream",
     "text": [
      "numero di clusters: 114 Modularità: 0.9641596490665582\n"
     ]
    }
   ],
   "source": [
    "dendro=function.leiden_clustering(graph,seed)"
   ]
  },
  {
   "cell_type": "code",
   "execution_count": null,
   "metadata": {},
   "outputs": [],
   "source": [
    "#gestione parte grafica del grafo (aggiunta colori + file per cytoscape)\n",
    "graph=function.adding_graph_color(graph,dendro)\n",
    "if not os.path.exists(path_save):\n",
    "    os.makedirs(path_save)"
   ]
  },
  {
   "cell_type": "markdown",
   "metadata": {},
   "source": [
    "DIZIONARIO CLUSTER"
   ]
  },
  {
   "cell_type": "code",
   "execution_count": null,
   "metadata": {},
   "outputs": [],
   "source": [
    "#creazione della mappa cluster e attribuzione del cluster i pazienti e alle varianti\n",
    "map_cluster=function.map_cluster_creation(graph,dendro)\n",
    "\n",
    "map_patients,map_variants=function.adding_cluster_to_map(map_cluster,map_patients,map_variants)\n",
    "\n",
    "graph=function.cluster_noded_attributes(graph,map_patients,map_variants)\n",
    "\n",
    "#function.write_graph_to_cytoscape(graph,path_save)"
   ]
  },
  {
   "cell_type": "code",
   "execution_count": null,
   "metadata": {},
   "outputs": [],
   "source": [
    "#plotnetwork singoli cluster\n",
    "#for i in range(len(map_cluster.keys())):\n",
    "   # function.plot_cluster_as_graph(graph,i,path_save)\n",
    "    "
   ]
  },
  {
   "cell_type": "markdown",
   "metadata": {},
   "source": [
    "INFORMAZIONI CLINICHE"
   ]
  },
  {
   "cell_type": "code",
   "execution_count": null,
   "metadata": {},
   "outputs": [],
   "source": [
    "#aggiunta delle informazioni cliniche alla mappa dei pazienti\n",
    "if len(data_clinical_sample)!=0:\n",
    "    map_patients=function.enriched_sample_data(data_clinical_sample,map_cluster,map_patients,sample_name,patient_name)\n",
    "if len(data_clinical_patient)!=0:\n",
    "    map_patients=function.enriched_patient_data(data_clinical_patient,map_patients,patient_name)"
   ]
  },
  {
   "cell_type": "code",
   "execution_count": null,
   "metadata": {},
   "outputs": [],
   "source": [
    "graph=function.adding_clinical_info_graph(graph,map_patients)"
   ]
  },
  {
   "cell_type": "code",
   "execution_count": null,
   "metadata": {},
   "outputs": [],
   "source": [
    "function.save_graph_to_file(graph, path_save)"
   ]
  },
  {
   "cell_type": "markdown",
   "metadata": {},
   "source": [
    "FILE DI SINTESI"
   ]
  },
  {
   "cell_type": "code",
   "execution_count": null,
   "metadata": {},
   "outputs": [],
   "source": [
    "#creazione file in cui riassumere le informazioni nei diversi cluster\n",
    "function.summary_info(path_save,map_cluster,map_patients,patient_name)\n",
    "function.numerosity_info(path_save,map_cluster)"
   ]
  },
  {
   "cell_type": "markdown",
   "metadata": {},
   "source": [
    "GENI"
   ]
  },
  {
   "cell_type": "code",
   "execution_count": null,
   "metadata": {},
   "outputs": [],
   "source": [
    "#creazione di una mappa con il numero di mutazioni per ogni gene + creazione di due mappe con i valori assoluti e percentuali di distribuzione delle mutazioni, per ciascun gene,\n",
    "#nei diversi cluster\n",
    "gene_total_count=function.count_gene(graph)\n",
    "map_cluster_gene_abs,map_cluster_gene_percent=function.count_gene_abs_percent(map_cluster,gene_total_count,path_save)\n",
    "\n",
    "#salvataggio delle percentuali di distribuzione delle mutazioni dei diversi geni nei cluster\n",
    "function.genes_single_cluster(map_cluster,path_save)\n",
    "\n",
    "function.genes_count_mutation_single_cluster(map_cluster_gene_abs,path_save)"
   ]
  },
  {
   "cell_type": "code",
   "execution_count": null,
   "metadata": {},
   "outputs": [],
   "source": [
    "function.creation_cluster_clinical_data(map_patients,path_save)"
   ]
  },
  {
   "cell_type": "code",
   "execution_count": null,
   "metadata": {},
   "outputs": [],
   "source": [
    " #function.couple_centroid_element(dendro,map_cluster,path_save)\n",
    "function.centroids_cluster(dendro,path_save)"
   ]
  },
  {
   "cell_type": "code",
   "execution_count": null,
   "metadata": {},
   "outputs": [],
   "source": [
    "function.degree_variant_cluster(map_cluster,graph,path_save)"
   ]
  },
  {
   "cell_type": "code",
   "execution_count": null,
   "metadata": {},
   "outputs": [],
   "source": [
    "#defizione del numero di connessioni per ogni variante all'interno del cluster \n",
    "variant_patient_connection_count=function.variant_conncection_patient(dendro)\n",
    "#defizione del numero di connessioni per ogni paziente all'interno del cluster\n",
    "patient_variant_connection_count=function.patient_connection_variant(dendro)"
   ]
  },
  {
   "cell_type": "code",
   "execution_count": null,
   "metadata": {},
   "outputs": [],
   "source": [
    "graph=function.add_size_node(graph,variant_patient_connection_count)"
   ]
  },
  {
   "cell_type": "code",
   "execution_count": null,
   "metadata": {},
   "outputs": [],
   "source": [
    "function.plot_graph(graph,path_save,\"all\")"
   ]
  },
  {
   "cell_type": "code",
   "execution_count": null,
   "metadata": {},
   "outputs": [],
   "source": [
    "# CREAZIONE DI UN FILE \"CONNECTION_VARIANT\" IN CUI SONO INDICATE IL NUMERO DI VARIANTI COMUNI TRA I VARI PAZIENTI DI UN CLUSTER\n",
    "function.file_connection_variant(map_cluster,map_patients,path_save)\n",
    "\n",
    "# CREAZIONE DI UN FILE \"CONCCECTION_PATIENT\" IN CUI SONO INDICATI IL NUMERO DI PAZIENTI COMUNI TRA LE VARIE VARIANTI DI UN CLUSTER\n",
    "function.file_connection_patient(map_cluster,map_variants,path_save)"
   ]
  },
  {
   "cell_type": "code",
   "execution_count": null,
   "metadata": {},
   "outputs": [],
   "source": [
    "#import pandas as pd\n",
    "#data_connection=pd.read_csv(\"./pdac/output/connection_patient.csv\",sep=\"\\t\")\n",
    "\n",
    "#for i in range(len(map_cluster.keys())):\n",
    "    #function.plot_distance_comutated_cluster_variants(dendro,i,data_connection,path_save)"
   ]
  },
  {
   "cell_type": "markdown",
   "metadata": {},
   "source": [
    "Arricchimento"
   ]
  },
  {
   "cell_type": "code",
   "execution_count": null,
   "metadata": {},
   "outputs": [],
   "source": [
    "import rpy2.robjects as robjects\n",
    "robjects.r('chooseCRANmirror(ind=46)')\n",
    "robjects.r.source(\"./enrichment.r\")"
   ]
  },
  {
   "cell_type": "code",
   "execution_count": null,
   "metadata": {},
   "outputs": [],
   "source": [
    "import enrichment_image as enrichment\n",
    "path_output=f'{data[\"Paths\"][\"output_folder\"]}/Arricchimento_all_genes'\n",
    "\n",
    "for folder in os.listdir(path_output):\n",
    "    full_path=os.path.join(path_output,folder)\n",
    "    if os.path.isdir(full_path):\n",
    "        for f in os.listdir(full_path):\n",
    "           # print(full_path)\n",
    "            if os.path.isfile(os.path.join(full_path,f)):\n",
    "                type_go=f.split(\"_\")[0]\n",
    "                cluster=f.split(\"_\")[1].split(\".\")[0]\n",
    "                if f.startswith(\"kegg\"):\n",
    "                    enrichment.plot_term_kegg(full_path,f\"{full_path}/{f}\",type_go,cluster,adjusted,threshold)\n",
    "                elif f.startswith(\"phen\"):\n",
    "                    enrichment.plot_term_pheno(full_path,f\"{full_path}/{f}\",type_go,cluster,adjusted,threshold)\n",
    "                \n",
    "                elif f.startswith(\"wiki\"):\n",
    "                    enrichment.plot_term_wiki(full_path,f\"{full_path}/{f}\",type_go,cluster,adjusted,threshold)\n",
    "                \n",
    "                else:\n",
    "                    print(f\"{full_path}/{f}\")\n",
    "                    enrichment.plot_term_go(full_path,f\"{full_path}/{f}\",type_go,cluster,adjusted,threshold)\n"
   ]
  }
 ],
 "metadata": {
  "kernelspec": {
   "display_name": "base",
   "language": "python",
   "name": "python3"
  },
  "language_info": {
   "codemirror_mode": {
    "name": "ipython",
    "version": 3
   },
   "file_extension": ".py",
   "mimetype": "text/x-python",
   "name": "python",
   "nbconvert_exporter": "python",
   "pygments_lexer": "ipython3",
   "version": "3.11.7"
  }
 },
 "nbformat": 4,
 "nbformat_minor": 2
}
