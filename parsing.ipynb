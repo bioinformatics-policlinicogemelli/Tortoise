{
 "cells": [
  {
   "cell_type": "code",
   "execution_count": 1,
   "metadata": {},
   "outputs": [],
   "source": [
    "import pandas as pd\n",
    "import json"
   ]
  },
  {
   "cell_type": "code",
   "execution_count": 2,
   "metadata": {},
   "outputs": [],
   "source": [
    "with open(\"config.json\") as f:\n",
    "    data=json.load(f)\n",
    "\n",
    "name_study=data[\"Paths\"][\"name_study\"]\n",
    "#path_data_mutational=data[\"Paths\"][\"data_mutational\"]\n",
    "#path_clinical_sample=data[\"Paths\"][\"data_clinical_sample\"]\n",
    "#path_clinical_patient=data[\"Paths\"][\"data_clinical_patient\"]"
   ]
  },
  {
   "cell_type": "code",
   "execution_count": 3,
   "metadata": {},
   "outputs": [
    {
     "data": {
      "text/plain": [
       "'lung'"
      ]
     },
     "execution_count": 3,
     "metadata": {},
     "output_type": "execute_result"
    }
   ],
   "source": [
    "name_study"
   ]
  },
  {
   "cell_type": "code",
   "execution_count": 4,
   "metadata": {},
   "outputs": [],
   "source": [
    "data=pd.read_csv(f\"./{name_study}/data_mutations.txt\",sep=\"\\t\")\n",
    "\n"
   ]
  },
  {
   "cell_type": "code",
   "execution_count": 23,
   "metadata": {},
   "outputs": [],
   "source": [
    "_temp_dict = dict(data[\"Hugo_Symbol\"].value_counts())\n",
    "pd.DataFrame({\"Hugo_Symbol\": _temp_dict.keys(), \"count\": _temp_dict.values()})"
   ]
  },
  {
   "cell_type": "code",
   "execution_count": 5,
   "metadata": {},
   "outputs": [],
   "source": [
    "#filtraggio sulle intron\n",
    "data=data[~data[\"Variant_Classification\"].isin([\"Intron\",\"Silent\"])]\n",
    "if name_study==\"endometrium\":\n",
    "    data_clinical_sample=pd.read_csv(f\"./{name_study}/data_clinical_sample.txt\",skiprows=4,sep=\"\\t\")\n",
    "    data_clinical_sample=data_clinical_sample[~data_clinical_sample[\"SAMPLE_TYPE\"].isin([\"Recurrence\"])]\n",
    "    sample=data_clinical_sample[\"SAMPLE_ID\"].unique()\n",
    "    data=data[data[\"Tumor_Sample_Barcode\"].isin(sample)]\n",
    "    "
   ]
  },
  {
   "cell_type": "code",
   "execution_count": 6,
   "metadata": {},
   "outputs": [
    {
     "data": {
      "text/plain": [
       "array(['Missense_Mutation', \"5'Flank\", 'Frame_Shift_Del',\n",
       "       'Nonsense_Mutation', 'Frame_Shift_Ins', 'Translation_Start_Site',\n",
       "       'In_Frame_Del', 'Splice_Site', 'In_Frame_Ins', 'Nonstop_Mutation',\n",
       "       'Splice_Region'], dtype=object)"
      ]
     },
     "execution_count": 6,
     "metadata": {},
     "output_type": "execute_result"
    }
   ],
   "source": [
    "data[\"Variant_Classification\"].unique()"
   ]
  },
  {
   "cell_type": "code",
   "execution_count": 7,
   "metadata": {},
   "outputs": [],
   "source": [
    "#data[\"Variant_Classification\"].unique()\n",
    "data.to_csv(f\"./{name_study}/data_mutational_filtered.txt\",sep=\"\\t\",index=False)"
   ]
  },
  {
   "cell_type": "code",
   "execution_count": 8,
   "metadata": {},
   "outputs": [
    {
     "data": {
      "text/plain": [
       "1568"
      ]
     },
     "execution_count": 8,
     "metadata": {},
     "output_type": "execute_result"
    }
   ],
   "source": [
    "len(data[\"Tumor_Sample_Barcode\"].unique())"
   ]
  }
 ],
 "metadata": {
  "kernelspec": {
   "display_name": "base",
   "language": "python",
   "name": "python3"
  },
  "language_info": {
   "codemirror_mode": {
    "name": "ipython",
    "version": 3
   },
   "file_extension": ".py",
   "mimetype": "text/x-python",
   "name": "python",
   "nbconvert_exporter": "python",
   "pygments_lexer": "ipython3",
   "version": "3.11.7"
  }
 },
 "nbformat": 4,
 "nbformat_minor": 2
}
