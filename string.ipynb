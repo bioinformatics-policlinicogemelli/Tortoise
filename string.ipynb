{
 "cells": [
  {
   "cell_type": "code",
   "execution_count": 1,
   "metadata": {},
   "outputs": [],
   "source": [
    "import pandas as pd\n",
    "import requests"
   ]
  },
  {
   "cell_type": "code",
   "execution_count": 2,
   "metadata": {},
   "outputs": [
    {
     "name": "stdout",
     "output_type": "stream",
     "text": [
      "Interazioni salvate in protein_interaction_network.tsv\n"
     ]
    }
   ],
   "source": [
    "gene_list = [\"TP53\", \"BRCA1\", \"EGFR\"] \n",
    "# Concatena i geni in una stringa separata da %0D (URL encoding per il ritorno a capo)\n",
    "genes = \"%0D\".join(gene_list)\n",
    "\n",
    "# Costruisci l'URL per la richiesta all'API di STRING\n",
    "url = f\"https://string-db.org/api/tsv/network?identifiers={genes}&species=9606\"\n",
    "\n",
    "# Effettua la richiesta all'API\n",
    "response = requests.get(url)\n",
    "\n",
    "# Controlla lo status della richiesta\n",
    "if response.status_code == 200:\n",
    "    # Salva o processa i dati delle interazioni\n",
    "    with open(\"protein_interaction_network.tsv\", \"w\") as f:\n",
    "        f.write(response.text)\n",
    "    print(\"Interazioni salvate in protein_interaction_network.tsv\")\n",
    "else:\n",
    "    print(f\"Errore nella richiesta: {response.status_code}\")"
   ]
  }
 ],
 "metadata": {
  "kernelspec": {
   "display_name": "base",
   "language": "python",
   "name": "python3"
  },
  "language_info": {
   "codemirror_mode": {
    "name": "ipython",
    "version": 3
   },
   "file_extension": ".py",
   "mimetype": "text/x-python",
   "name": "python",
   "nbconvert_exporter": "python",
   "pygments_lexer": "ipython3",
   "version": "3.10.6"
  }
 },
 "nbformat": 4,
 "nbformat_minor": 2
}
